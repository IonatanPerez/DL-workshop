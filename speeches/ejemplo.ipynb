{
 "cells": [
  {
   "cell_type": "code",
   "execution_count": 1,
   "metadata": {},
   "outputs": [],
   "source": [
    "import pandas as pd"
   ]
  },
  {
   "cell_type": "code",
   "execution_count": 2,
   "metadata": {},
   "outputs": [],
   "source": [
    "datos = pd.read_csv('books.csv')"
   ]
  },
  {
   "cell_type": "code",
   "execution_count": 6,
   "metadata": {},
   "outputs": [
    {
     "data": {
      "text/plain": [
       "eng              8908\n",
       "en-US            1408\n",
       "spa               218\n",
       "en-GB             214\n",
       "fre               144\n",
       "ger                99\n",
       "jpn                46\n",
       "mul                19\n",
       "zho                14\n",
       "grc                11\n",
       "por                10\n",
       "en-CA               7\n",
       "ita                 5\n",
       "lat                 3\n",
       "enm                 3\n",
       "rus                 2\n",
       "swe                 2\n",
       "ara                 1\n",
       "wel                 1\n",
       "gla                 1\n",
       "tur                 1\n",
       "9780851742717       1\n",
       "nor                 1\n",
       "9781563841552       1\n",
       "glg                 1\n",
       "msa                 1\n",
       "nl                  1\n",
       "9781593600112       1\n",
       "9780674842113       1\n",
       "srp                 1\n",
       "ale                 1\n",
       "Name: language_code, dtype: int64"
      ]
     },
     "execution_count": 6,
     "metadata": {},
     "output_type": "execute_result"
    }
   ],
   "source": [
    "datos[\"language_code\"].value_counts()"
   ]
  }
 ],
 "metadata": {
  "kernelspec": {
   "display_name": "NN",
   "language": "python",
   "name": "python3"
  },
  "language_info": {
   "codemirror_mode": {
    "name": "ipython",
    "version": 3
   },
   "file_extension": ".py",
   "mimetype": "text/x-python",
   "name": "python",
   "nbconvert_exporter": "python",
   "pygments_lexer": "ipython3",
   "version": "3.10.9"
  },
  "orig_nbformat": 4
 },
 "nbformat": 4,
 "nbformat_minor": 2
}
