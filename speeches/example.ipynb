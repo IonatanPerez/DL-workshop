{
 "cells": [
  {
   "cell_type": "code",
   "execution_count": 1,
   "metadata": {},
   "outputs": [
    {
     "name": "stdout",
     "output_type": "stream",
     "text": [
      "Los primeros diez números primos son:\n",
      "[2, 3, 5, 7, 11, 13, 17, 19, 23, 29]\n"
     ]
    }
   ],
   "source": [
    "def es_primo(numero):\n",
    "    if numero <= 1:\n",
    "        return False\n",
    "    elif numero <= 3:\n",
    "        return True\n",
    "    elif numero % 2 == 0 or numero % 3 == 0:\n",
    "        return False\n",
    "    i = 5\n",
    "    while i * i <= numero:\n",
    "        if numero % i == 0 or numero % (i + 2) == 0:\n",
    "            return False\n",
    "        i += 6\n",
    "    return True\n",
    "\n",
    "def primeros_diez_primos():\n",
    "    primos = []\n",
    "    numero = 2\n",
    "    while len(primos) < 10:\n",
    "        if es_primo(numero):\n",
    "            primos.append(numero)\n",
    "        numero += 1\n",
    "    return primos\n",
    "\n",
    "primeros_diez = primeros_diez_primos()\n",
    "print(\"Los primeros diez números primos son:\")\n",
    "print(primeros_diez)"
   ]
  },
  {
   "cell_type": "code",
   "execution_count": null,
   "metadata": {},
   "outputs": [],
   "source": [
    "function es_primo(numero)\n",
    "    if numero <= 1\n",
    "        return false\n",
    "    elseif numero <= 3\n",
    "        return true\n",
    "    elseif numero % 2 == 0 || numero % 3 == 0\n",
    "        return false\n",
    "    end\n",
    "    \n",
    "    i = 5\n",
    "    while i * i <= numero\n",
    "        if numero % i == 0 || numero % (i + 2) == 0\n",
    "            return false\n",
    "        end\n",
    "        i += 6\n",
    "    end\n",
    "    \n",
    "    return true\n",
    "end\n",
    "\n",
    "function primeros_diez_primos()\n",
    "    primos = Int[]\n",
    "    numero = 2\n",
    "    while length(primos) < 10\n",
    "        if es_primo(numero)\n",
    "            push!(primos, numero)\n",
    "        end\n",
    "        numero += 1\n",
    "    end\n",
    "    return primos\n",
    "end\n",
    "\n",
    "primeros_diez = primeros_diez_primos()\n",
    "println(\"Los primeros diez números primos son:\")\n",
    "println(primeros_diez)"
   ]
  }
 ],
 "metadata": {
  "kernelspec": {
   "display_name": "NN",
   "language": "python",
   "name": "python3"
  },
  "language_info": {
   "codemirror_mode": {
    "name": "ipython",
    "version": 3
   },
   "file_extension": ".py",
   "mimetype": "text/x-python",
   "name": "python",
   "nbconvert_exporter": "python",
   "pygments_lexer": "ipython3",
   "version": "3.7.16"
  },
  "orig_nbformat": 4
 },
 "nbformat": 4,
 "nbformat_minor": 2
}
