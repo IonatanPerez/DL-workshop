{
 "cells": [
  {
   "cell_type": "markdown",
   "metadata": {},
   "source": [
    "# Modelo generativo de texto para discursos de CFK"
   ]
  },
  {
   "cell_type": "markdown",
   "metadata": {},
   "source": [
    "Las redes neuronales recurrentes (conocidas com *RNN* por sus siglas en inglés) son una arquitectura especial de redes neuronales que implementan la capacidad de poseer memoria. Este tipo de arquitectura resulta ideal para implementar sistemas generativos, es decir, modelos capaces de generar contenido.\n",
    "\n",
    "En este *notebook* en particular, vamos a realizar un modelo generativo de texto entrenado sobre los discursos de CFK desde 2007 a 2015. La red va a ser capaz de generar texto como si fuese un discurso de CFK. La generacion de texto se va a realizar **caracter por caracter**, es decir, la red produce un caracter tras de otro. La red no conoce las palabras ni las estructuras semánticas, sino que simplemente produce caracteres.\n",
    "\n",
    "La arquitectura tiene la siguiente topología (aproximada):\n",
    "\n",
    "![img](http://karpathy.github.io/assets/rnn/charseq.jpeg)\n",
    "\n",
    "La `hidden layer` es la que persiste la *memoria* de la red. Notar que para generar cada caracter siguiente, la red toma el caracter actual y la memoria.\n",
    "\n",
    "Para más información acerca de las redes neuronales recurrentes y su utilidad, proponemos leer el [siguiente excelent blog](http://karpathy.github.io/2015/05/21/rnn-effectiveness/) de A. Karpathy, el actual director de AI de Tesla."
   ]
  },
  {
   "cell_type": "markdown",
   "metadata": {},
   "source": [
    "## Importando librerías"
   ]
  },
  {
   "cell_type": "markdown",
   "metadata": {},
   "source": [
    "El siguiente comando importa las librerias requeridas por el resto del programa. Detallamos las mas importantes:\n",
    "\n",
    "* **numpy**: para el manejo en CPU de los tensores (vectores multidimensionales)\n",
    "* **tensorflow**: para construir y entrenar la red neuronal\n",
    "\n",
    "En este *notebook* no hay un modulo `utils` (donde se almacenan funciones auxiliares). Todas las funciones adicionales se van a declarar en el mismo *notebook*."
   ]
  },
  {
   "cell_type": "code",
   "execution_count": null,
   "metadata": {},
   "outputs": [],
   "source": [
    "%load_ext autoreload\n",
    "%autoreload 2\n",
    "\n",
    "import tensorflow as tf\n",
    "import numpy as np\n",
    "import os\n",
    "from tqdm import tqdm\n",
    "import random"
   ]
  },
  {
   "cell_type": "markdown",
   "metadata": {},
   "source": [
    "## Cargando la data"
   ]
  },
  {
   "cell_type": "markdown",
   "metadata": {},
   "source": [
    "A continuacion, vamos a cargar todos los datos (que son los discursos). Los discursos se encuentran en la carpeta `./speeches`, que fueron extraidos de la [siguiente pagina](https://es.wikisource.org/wiki/Autor:Cristina_Fern%C3%A1ndez_de_Kirchner).\n",
    "\n",
    "La unidad de dato será el párrafo. Esto es lo que la red va a aprender a generar, **un párrafo**."
   ]
  },
  {
   "cell_type": "markdown",
   "metadata": {},
   "source": [
    "Definimos la minima longitud de un párrafo para ser considerado:"
   ]
  },
  {
   "cell_type": "code",
   "execution_count": 5,
   "metadata": {},
   "outputs": [],
   "source": [
    "MIN_PARAGRAPH_LEN = 5"
   ]
  },
  {
   "cell_type": "markdown",
   "metadata": {},
   "source": [
    "La siguiente función carga la data. Retorna una lista con todos los párrafos."
   ]
  },
  {
   "cell_type": "code",
   "execution_count": 6,
   "metadata": {},
   "outputs": [],
   "source": [
    "def load_data(_dir):\n",
    "    ret = []\n",
    "    for each in os.listdir(_dir):\n",
    "        full_path = os.path.join(_dir, each)\n",
    "        if each.endswith(\"txt\"):\n",
    "            with open(full_path, \"rb\") as f:\n",
    "                aux = f.read().decode(\"utf-8\").split('\\n\\n')\n",
    "                for paragraph in aux:\n",
    "                    paragraph = paragraph.strip('\\n')\n",
    "                    paragraph += '\\n'\n",
    "                    if len(paragraph) < MIN_PARAGRAPH_LEN:\n",
    "                        continue\n",
    "                    ret.append(paragraph)\n",
    "    return ret"
   ]
  },
  {
   "cell_type": "markdown",
   "metadata": {},
   "source": [
    "Carguemos los datos de la carpeta `./speeches`."
   ]
  },
  {
   "cell_type": "code",
   "execution_count": 7,
   "metadata": {},
   "outputs": [],
   "source": [
    "ps = load_data(\"./speeches/\")"
   ]
  },
  {
   "cell_type": "markdown",
   "metadata": {},
   "source": [
    "A continuación, algunas métricas de la data:"
   ]
  },
  {
   "cell_type": "code",
   "execution_count": 8,
   "metadata": {},
   "outputs": [
    {
     "name": "stdout",
     "output_type": "stream",
     "text": [
      "Number of Paragraphs: 79\n",
      "Mean 23956.974683544304\n",
      "Median 14806.0\n",
      "Std 29567.104693370406\n",
      "Max 154056\n",
      "Min 3402\n"
     ]
    }
   ],
   "source": [
    "print(\"Number of Paragraphs: {}\".format(len(ps)))\n",
    "\n",
    "arr = np.asarray([len(x) for x in ps])\n",
    "\n",
    "print(\"Mean {}\".format(np.mean(arr)))\n",
    "print(\"Median {}\".format(np.median(arr)))\n",
    "print(\"Std {}\".format(np.std(arr)))\n",
    "print(\"Max {}\".format(np.max(arr)))\n",
    "print(\"Min {}\".format(np.min(arr)))"
   ]
  },
  {
   "cell_type": "markdown",
   "metadata": {},
   "source": [
    "Veamos algunos ejemplos de párrafos presentes en el *dataset*"
   ]
  },
  {
   "cell_type": "code",
   "execution_count": 9,
   "metadata": {},
   "outputs": [
    {
     "name": "stdout",
     "output_type": "stream",
     "text": [
      "Hola, muy buenas tardes a todos y a todas; gracias a los Gobernadores que nos acompañan; gracias al señor Intendente del partido de Vicente López; gracias al Gobernador de la provincia de Buenos Aires, Daniel Scioli, gracias: estamos inaugurando Tecnópolis para todos los argentinos. Quiero contarles la historia de esta Tecnópolis, que la imaginamos para el año pasado, porque Tecnópolis era la culminación de los festejos del Bicentenario. La habíamos imaginado como el final porque en ese Bicentenario maravilloso, que vivimos los argentinos, durante cuatro días, conmemoramos los 200 años de historia, ustedes lo deben recordar.\n",
      "\n",
      "También deben recordar la última carroza, que desfiló ese día, era una inmensa burbuja - llena de chicos con computadoras, de científicos – porque era precisamente el eslabón de esos 200 años de historia con lo que venía: la ciencia y la tecnología. Porque Tecnópolis era en esa concepción, y ustedes lo van a ver ahora, una convocatoria al futuro de todos los argentinos.\n",
      "\n",
      "Recorrimos, durante esos festejos, los 200 años de historia, y luego la idea era que – unos meses más tarde – antes de finalizar el año del Bicentenario, pudiéramos hacer Tecnópolis, también como hicimos los festejos del Bicentenario nacional, popular, federal y latinoamericano, hacerlo también en la Ciudad de Buenos Aires.\n",
      "\n",
      "Lamentablemente, no nos autorizaron a hacerlo y respetuosos nos pusimos a pensar. No nos pusimos ni a rezongar, ni a quejarnos, ni a echarle la culpa a nadie de que no íbamos a poder hacer Tecnópolis. Para nada, nos pusimos a pensar cómo lo hacemos y la verdad que no hay mal que por bien no venga, como decía mi abuela. Y de aquello que iba a ser algo que iba a durar unos pocos días, como fueron esos festejos del Bicentenario vinimos a este verdadero parque temático de carácter permanente, más grande, más importante. Y lo pudimos hacer, ¿saben por qué? No solamente por el inmenso esfuerzo y recursos que ha puesto el Gobierno Nacional. No solamente porque también han venido el sector privado, a través de las empresas a participar de esta Argentina que también es de ellos, sino porque encontramos un Intendente y un Gobernador que nos ayudaron a hacer este parque maravilloso, y como siempre cuando uno hace las cosas juntos, no importa de qué partido sean. Acá lo tenemos al amigo, Enrique “Japonés” García, radical hasta los tuétanos, pero argentino por sobre las cosas. Y Daniel, nuestro Daniel, nuestro compañero Gobernador de la provincia de Buenos Aires, que también la provincia puso recursos y esfuerzos.\n",
      "\n",
      "El Intendente me entregó – como ustedes vieron – antes de entrar en cadena nacional el decreto por el cual nos habilita a tener este parque temático. Y acá me dicen, me cuentan que apareció en un diario que yo no leo porque miente mucho, así que no le creo mucho, dicen que ese diario dijo que los concejales de su partido, que representan la fuerza de quien hoy gobierna la Ciudad de capital, le dijo que tampoco nos querían votar la habilitación. Parece que no quieren ni que lo hagamos en la Ciudad de Buenos Aires ni que tampoco lo hagamos acá. Yo no le creo, yo no le creo, yo estoy segura que ese jefe político va a llamar a sus legisladores y les va a pedir que aprueben esto, porque esto es para todos los argentinos y estamos seguros que esto le interesa a todos.\n",
      "\n",
      "Y claro que es mucho más grande, y claro que es mucho más importante porque, además, estamos en Villa Martelli, en lo que alguna vez fueron las instalaciones del Ejército Argentino y que ahora queremos hacerlo como parque temático de la historia de la industria, de la innovación y de la tecnología de los argentinos.\n",
      "\n",
      "Y estamos aquí, también, sabiendo que tenemos que recorrer esos 200 años fructíferos de historia, de desarrollo. Ustedes van a ver el desarrollo de la industria aeronáutica; la Argentina fue uno de los primeros países del mundo en desarrollar aviones a propulsión, el Pulqui debe andar por ahí; también deben estar los vectores; más de cien hechos industriales en nuestro país. Tenemos también un sector dedicado a todo los inventos donde va a poder interactuar y hasta armamos y recreamos un sector de glaciares, como si fuera la Antártida argentina de donde nos vamos a poder comunicar también con Base Marambio, esa otra parte entrañable de nuestro territorio.\n",
      "\n",
      "Y estamos aquí para que los argentinos conozcamos lo que somos capaces de hacer, la potencia que tenemos, porque aquí también se exhibe la historia de los 200 años de producción, de innovación tecnológica. Es también una convocatoria a todos para conocer y para aprender. Tuvimos que remover también muchos obstáculos, pero bueno, “terca la mula”, como me dicen, ahí fuimos.\n",
      "\n",
      "¿Saben cuántos metros de tierra tuvimos que remover? 450.000 metros cúbicos de tierra; sacamos 40.000 toneladas de escombros; 2.000 personas participaron en el desmalezado de toda Villa Martelli y más de 12.000 cooperativistas trabajaron junto a la Municipalidad, junto a la Provincia. Tenemos más de 8 kilómetros de fibra óptica aquí abajo y gracias a las empresas privadas que pusieron esa fibra óptica que nos permite interconectar a todo el Parque; más de 59 kilómetros subterráneos de cable.\n",
      "\n",
      "Esto lo pensábamos hacer un poco más pequeño en la Ciudad de Buenos Aires. Lo íbamos a hacer el año pasado, cuando no había elecciones, porque, ¿saben qué?, nosotros no somos de los que hacemos obras 4 o 5 meses antes de las elecciones. Nosotros trabajamos siempre y durante todo el año y ese Bicentenario lo imaginamos con muchísimo cariño.\n",
      "\n",
      "Tenemos una gran ilusión: que todos los argentinos vengan a conocer aquí esta verdadera maravilla que ya no es una conmemoración a lo que fuimos capaces de hacer, es algo más también que la convocatoria al futuro, es un verdadero Parque Temático que la Generación del Bicentenario, nuestra generación le quiere dejar como legado a todos los argentinos al empezar el tercer siglo de nuestra historia.\n",
      "\n",
      "Estamos absolutamente convencidos, compatriotas, que la ciencia, la tecnología, el conocimiento son los que van a darnos el valor agregado definitivo para seguir dando el salto cuantitativo y cualitativo que estamos dando como país.\n",
      "\n",
      "Hoy leía, con mucha alegría, un informe de la CEPAL, donde rectifica cifras anteriores y nos habían dicho que íbamos a crecer al 4,3. Hoy la propia CEPAL esta reconociendo que vamos a crecer más allá del 8 por ciento. La CEPAL, un organismo de Naciones Unidas. ¡Qué lindo, qué lindo!\n",
      "\n",
      "También me decía recién el Intendente de Vicente López, lo contentos que están todos los intendentes que rodean el lugar porque, claro, esto significa actividad económica, recursos y también impuestos, Daniel, que seguramente van a venir a la Provincia, que nunca están mal.\n",
      "\n",
      "Así que, bueno, quiero agradecer a todos, convocarlos a trabajar con alegría, porque solo con alegría se puede transformar la realidad y seguir apuntalando el crecimiento del país. Quiero convocarlos también, con mucho orgullo y dignidad, porque este Gobierno, nuestro Gobierno, de los hombres y mujeres que me acompañan y me ayudan, porque yo sola no podría hacerlo, hemos tomado la decisión de privilegiar el talento, la inteligencia, la educación, la ciencia y la tecnología como los verdaderos motores que van a permitirnos profundizar este proceso de transformación y distribución del ingreso, en un momento histórico a nivel nacional y global, cuando se derrumban estrepitosamente los paradigmas que durante tanto tiempo colonizaron culturalmente a nuestra región en general y a nuestro país en particular.\n",
      "\n",
      "Yo me congratulo, junto a los hombres y mujeres que forman parte de este espacio político, de este proyecto de poder ofrecerles a todos los argentinos esta propuesta, esta invitación al futuro. Esta es una invitación al futuro, a pensar el país de una manera diferente, a sentirlo de una manera más profunda, a saber que la gestión, el compromiso con el pueblo, con la historia y con los intereses de la Nación, son los únicos que nos permitirán avanzar en la construcción de ese futuro.\n",
      "\n",
      "Esto era lo que queríamos culminar el año pasado, ese año de tanta felicidad y, al mismo tiempo de tanto dolor para quien les habla. Pero la vida es así, con dolores y con alegrías, nadie siempre puede estar todo el día saltando y cantando ni tampoco llorando. Es la vida y la vida va y viene.\n",
      "\n",
      "Y esto también quiero que, además, sea una conmemoración y una convocatoria pero no solo al futuro, sino también a la vida, a la vida de las nuevas generaciones, de los que todavía no nacieron, de los que van a venir y por los que tenemos la obligación de seguir adelante con más fuerza, con más pasión y con más convicción que nunca.\n",
      "\n",
      "Gracias argentinos, gracias Intendente, gracias Gobernador, gracias a los trabajadores que pudieron hacer posible Tecnópolis, gracias a las empresas donde están demostrando que podemos públicos y privados, juntos, tirar del mismo carro que es la patria, la patria de todos.\n",
      "\n",
      "Gracias y hasta siempre, a disfrutar Tecnópolis, a disfrutar del futuro que ya ha llegado. Entrar al futuro es también entrar a la vida.\n",
      "\n",
      "Gracias, muchas gracias.\n",
      "\n",
      "----------------------------------\n",
      "Señor Presidente; señores miembros de esta distinguida Asamblea Anual de Naciones Unidas: quiero referirme en primer término en esta intervención a ratificar la postura personal de esta Presidenta, la de la República Argentina como país y la del pueblo argentino en cuanto al enfático repudio y rechazo al salvaje asesinato de que fuera objeto el embajador estadounidense Chris Stevens en la ciudad de Bengassi en la República de Libia. Este hecho que caracteriza una vez más la andanada terrorista ha merecido por parte nuestra también un período de reflexión acerca de determinadas interpretaciones que hubo en su momento referidas a acontecimientos sucedidos en los países árabes y que fueron por muchos líderes occidentales interpretados o denominados, tal vez periodísticamente, como la primavera árabe, pero que en realidad, humildemente y con mucho respeto desde nuestro punto de vista, reflejaba tal vez otras situaciones no percibidas, no entendidas, no comprendidas por los principales líderes de Occidente.\n",
      "\n",
      "La muerte de Chris Stevens en Bengassi no es casualidad, fue precisamente allí donde se originó el principal foco de resistencia al régimen de Muhamar Kadafi y donde aquellos que tenemos cierta inclinación por la política internacional sabíamos muy claramente que residían precisamente allí los principales fundamentalistas islámicos opositores, no ya al régimen de Muhamar Kadafi sino a una coexistencia pacífica en un mundo de paz, entre hombres y mujeres de diversas razas, religiones, creencias o pertenencias.\n",
      "\n",
      "Digo esto porque es necesario tener una clara percepción de cuáles son los problemas y cuáles son verdaderamente las situaciones que se están originando en el mundo y en Medio Oriente en especial, para entender la necesidad de tener políticas diferentes orientadas a construir una paz verdadera y duradera. Una paz que debe implicar siempre elegir, antes que el lenguaje de las armas, el lenguaje de la diplomacia. Porque si uno recorre la historia reciente podrá advertir que muchas veces personajes, fracciones políticas que parecían aliadas de Occidente, finalmente al cabo del tiempo terminaron convirtiéndose en acérrimos enemigos de los valores occidentales por una tal vez mala interpretación o mala adecuación de políticas que permitieran comprender lo que está pasando en Medio Oriente y fundamentalmente en el mundo.\n",
      "\n",
      "La necesidad del reconocimiento del Estado de Palestina, como también la necesidad y el reconocimiento de que Israel viva dentro de sus fronteras legalmente reconocidas desde 1967, son parte fundamental y el nudo fundamental del problema en el Medio Oriente. Nosotros abogamos por parte de la República Argentina, y creo también reflejar los intereses de nuestra región, de dar una respuesta a algo que viene reclamándose durante décadas y que sin embargo por distintas circunstancias y atravesando distintos gobiernos, las distintas potencias occidentales que tienen una inmensa responsabilidad en este liderazgo no han logrado construir. Para Chris Stevens y para su familia ya no habrá primavera árabe, ni siquiera verano sino un invierno terrible y eterno.\n",
      "\n",
      "Por eso creo que es imprescindible replantear desde Occidente estrategias y políticas diferentes respecto de Medio Oriente, porque corremos el riesgo de que diciendo defender valores terminemos finalmente, a través de estrategias equivocadas atacando esos valores, profundizando la crisis y que sucedan hechos como el que sucedió en Bengassi, donde tenemos que lamentar la muerte de un diplomático, cualquiera sea su origen, en este caso un embajador estadounidense, cosa que no sucedía desde hacía muchísimo tiempo.\n",
      "\n",
      "Similar situación podría describirse respecto de la otra gran crisis que aparentemente de carácter económico sacude al mundo. En el año 2008, cuando nos tocó concurrir a esta asamblea, se detectó la va se desplomaba en Lehman Brothers, y una crisis que parecía causada porque había pobres que no podían pagar hipotecas, la famosa crisis de las sub prime, hoy ha terminado en algo más que una crisis de pobres que no puede pagar sus hipotecas, se ha corrido finalmente el velo y se ha descubierto, o por lo menos ha quedado expuesto a la luz pública, que ha sido precisamente la administración financiera de capitales sin ningún tipo de regulación, no ya en beneficio de los sectores más empobrecidos sino de los sectores más ricos de la sociedad, la causante de esto que ya es una crisis global.\n",
      "\n",
      "En Europa la crisis de la Eurozona, que no es más que la crisis de las deudas soberanas, países que deben más que su PBI y familias endeudadas más allá de sus posibilidades por los próximos 20 ó 30 años. En estos mismos momentos que estamos aquí se está produciendo en España una represión contra indignados que reclaman la renuncia del gobierno por los programas de ajuste que se están aplicando, recetas ortodoxas, las mismas que se vienen aplicando desde hace décadas infructuosamente.\n",
      "\n",
      "Y quiero decirles que cuando hablamos de esto no hablamos desde lo empírico, cuando hablamos de esto en la República Argentina lo hacemos desde el conocimiento profundo por haber sido una suerte de conejillo de indias de las políticas neoliberales, producto del Consenso de Washington, que traspusieron las fronteras de toda la década de los 90 y finalmente implosionaron en el país en el 2001 cuando se produjo el default de deuda soberana más importante que se tenga memoria. Argentina llegó a deber 160% de su producto bruto, producto de políticas de endeudamiento, políticas de desindustrialización, políticas de ajuste permanente en el consumo, que uno ve aplicar ahora casi metódica y ferozmente sobre los países que hoy como España, como Grecia, como Portugal y como otros tantos están poniendo en peligro la Eurozona.\n",
      "\n",
      "Poner en peligro el Eurozona es algo más que poner en peligro una región económica, es poner en peligro también la estabilidad misma del sistema financiero internacional. Debemos recordar que si bien el 60% o 65% de las reservas internacionales de los distintos países están depositadas en sus bancos centrales en dólares, hay no menos de un 24% de reservas de los diferentes bancos centrales depositadas en euros.\n",
      "\n",
      "También, es bueno decirlo, es necesario un replanteo por parte de lo que significa una guerra comercial que se ha desatado en los distintos países a partir de políticas que unos denuncian como proteccionistas y que sólo constituyen políticas de defensa de nuestras sociedades, de nuestros trabajadores y de nuestros empresarios frente a las economías de los países desarrollados, que han sido en definitiva las causantes de la crisis que hoy estamos viviendo y que se intenta transferir. Yo siempre me pregunto algo: si cualquier país de los nuestros tuviera un déficit de la cuenta corriente como tiene por ejemplo Estados Unidos de Norteamérica, sería un país al que seguramente habrían censurado, sería un país al que habrían criticado, pero claro, al ser moneda de reserva, al hacerse el 85% de las transacciones comerciales del mundo en dólares, al ser el país que emite la moneda de reserva por excelencia, queda totalmente separado de toda recomendación o de todo ajuste explicitado por el Fondo Monetario Internacional. Sin embargo el Fondo Monetario Internacional sigue reclamando políticas de ajuste e inclusive, como en el día de ayer, amenazando a países a como la República Argentina, en una imitación que quiso hacer la titular del Fondo Monetario Internacional con un partido de fútbol, que si Argentina no cumplía determinadas cosas le iban a sacar tarjeta roja. Quiero decirle a la titular del Fondo Monetario Internacional que esto no es un partido de fútbol, que esta es la crisis económica y política más grave que se tenga memoria desde los años 30. En segundo lugar debo decirle que mi país no es un cuadro de fútbol, es una nación soberana que toma soberanamente sus decisiones y que por lo tanto no va a ser sometida a ninguna presión y mucho menos a ninguna amenaza de que si no hace tal cosa se le va a poner tarjeta roja. Por otra parte, si vamos al rol, ya que estamos en orden de comparar fútbol con economía, debo decir que el que el rol del presidente de la FIFA ha sido bastante más satisfactorio que el rol de los directores del Fondo Monetario Internacional en cuanto a organizar lo que es su responsabilidad. En efecto, la FIFA organiza cada cuatro años el mundial de fútbol, el próximo será en la República Federativa de Brasil y seguramente será un éxito. El Fondo Monetario Internacional viene tratando de organizar la economía desde los años 80 y crisis tras crisis no logra hacerlo. Sin embargo parece que los únicos que deberíamos criticarnos somos los países, no he escuchado ninguna autocrítica del Fondo Monetario Internacional en cuanto a cuáles eran las estadísticas de España, cuáles eran las estadísticas de Grecia, de Portugal, de Irlanda, de Italia, que permitieron que contrajeran deudas, que emitieran bonos sin ningún tipo de control. Cuáles son los controles, a quiénes controlan y por qué se controla a unos y a otros no.\n",
      "\n",
      "Estas son algunas de las cosas que nos planteamos hoy aquí frente a ustedes, porque es necesaria una reformulación, lo venimos diciendo desde el año 2003 en que el presidente Kirchner por primera vez vino aquí y sostuvo, ante una Argentina devastada por la crisis, con índices de pobreza y de indigencia nunca vistos, el 25% de los argentinos no tenía trabajo, se habían quedado con sus ahorros en dólares, en pesos, en rupias, en libras, en lo que venía, no tenían nada. Vino aquí y dijo dennos una oportunidad para crecer porque las sociedades para poder pagar sus deudas deben crecer, los muertos no pagan sus deudas. Esta fue la frase de aquel argentino que no se equivocó y que en el año 2003, a partir de las políticas que pudo aplicar y sin acceder, inclusive hasta el día de la fecha, al mercado de capitales, Argentina ha reestructurado el 94% de su deuda soberana y vienen pagando rigurosa y regularmente cada uno de sus vencimientos desde el 2005 a la fecha. Y lo vamos a seguir haciendo, porque privilegiamos políticas donde la producción nacional, el valor agregado, la generación de trabajo, atender a los sectores más vulnerables a través de programas sociales que representan el 1,2% de nuestro PBI y que han sido definidos por hombres como Bernardo Kliksberg como los programas de política social más importantes de Latinoamérica, nos ha permitido un crecimiento que sin lugar a duda es el más importante de los 200 años de historia que tiene la República Argentina.\n",
      "\n",
      "No venimos a dar lecciones a nadie porque no nos consideramos maestros ni profesores de nadie, simplemente queremos contar la experiencia de un país que vivió una situación similar a la que están viviendo otras naciones del mundo desarrollado. Lo que queremos aportar es desde lo empírico, no desde lo teórico y sabemos que tenemos que tomar como miembros del G-20 medidas que todavía no se han tomado porque siguen sin regularse los grandes movimientos de capitales que un día golpean en un país y otro día golpean en el otro, donde un día la bolsa de un país que está prácticamente en default sube 20 puntos para bajar al otro día 7 siete puntos. Señoras, señores, no seremos economistas pero no somos tontos, sabemos que cada uno de estos movimientos implica formidables transferencias de ingresos y los únicos perjudicados siguen siendo los millones y millones de habitantes que pierden su trabajo, pierden sus esperanzas y lo que yo aspiro es a que no pierdan la paciencia, porque normalmente cuando se pierde la paciencia en situaciones sociales límite, cuando no se consigue trabajo, donde los pobres no tienen un Estado que los proteja y los contemple, finalmente terminan sobreviniendo crisis políticas e institucionales como las que nos tocó vivir a nosotros en el año 2001.\n",
      "\n",
      "Creo también necesario entender que estamos ante un nuevo mundo y un nuevo mundo exige también liderazgos creativos, exige arriesgar nuevas ideas y nuevos conceptos, querer solucionar los problemas que hoy tiene el mundo con las recetas que los provocaron resulta absolutamente absurdo, es necesario decirlo claramente. El tema del déficit en cuenta corriente que es trasladado de los Estados Unidos a los países emergentes, donde se revalorizan por allí nuestras monedas y tenemos que hacer ingentes esfuerzos a través de acumulación de reservas y de medidas para que no nos transfieran desde los países centrales stocks de manufacturas a muy bajo precio que atentan contra nuestras economías, que por otra parte, bueno es decirlo, los últimos 10 años el crecimiento económico global fue sostenido precisamente por los países emergentes y hoy somos los países emergentes los que tenemos que estar soportando que nos denuncien como proteccionistas por parte de aquellas economías que han vivido protegiendo, a través de subsidios agrícolas y promociones de toda índole, en detrimento de nuestras economías y fundamentalmente en detrimento de la inclusión de millones de ciudadanos que ahora han podido ser incluidos al aparato productivo. Es clave que los países desarrollados entiendan la contribución que los países emergentes podemos hacer al resurgimiento de la economía internacional, por la cantidad de millones que todavía debemos incluir a los beneficios sociales y a la producción, porque además hemos bajado nuestro nivel de endeudamiento como nunca se ha visto. La Argentina, de haber sido un país que estuvo con el 160% de su PBI endeudado, hoy apenas tiene un 14% del PBI en relación a la deuda, el resto es deuda intra sector público y estamos en el más bajo endeudamiento en moneda extranjera y referente a titulares extranjeros.\n",
      "\n",
      "Obviamente que para algunos somos un mal ejemplo. ¿Por qué? Porque cuando reestructuramos nuestra deuda, y no estoy proponiendo como solución la reestructuración, pero cuando reestructuramos nuestra deuda sostuvimos que hace a la esencia del capitalismo que quien toma el riesgo de colocar en un país dólares, con una tasa como la que se llegó a pagar en la República Argentina durante los años 90 para sostener la convertibilidad, entre el 15 y el 16%, mientras en el resto del mundo se pagaba apenas un 2 por ciento, debe asumir que si alguien le paga esa cantidad de dinero frente a un mundo que paga solamente el 2 por ciento, hay grandes posibilidades de riesgo que ese señor, ese banco, esa institución no les devuelva el dinero.\n",
      "\n",
      "La tesis fue entonces que si habían arriesgado debían compartir parte de ese riesgo y, por lo tanto, propusimos una reestructuración en la cual esto fuera soportado por ambas partes.\n",
      "\n",
      "De cualquier manera, la Argentina pagó más que la ENRON a sus accionistas. La ENRON pagó de cada 100 dólares, 1 dólar creo por accionista; nosotros, de cada 100 dólares, pagamos entre 25 y 30 dólares. Así que, en realidad, en esta reestructuración tuvimos mucha mayor amplitud y mucha mayor consecuencia que la tuvo, por ejemplo, la empresa ENRON, no ya con el resto del mundo sino con los propios ciudadanos americanos.\n",
      "\n",
      "Decía entonces que estas cosas por supuesto pueden molestar a determinados organismos multilaterales de crédito, sobre todo porque la Argentina, durante la década de los años 90, fue exhibida como un ejemplo de lo que debía hacerse para en el año 2001 soltarle la mano y dejarla que se arregle sola.\n",
      "\n",
      "Por eso creo que algunos creen que deben censurarnos o multarnos para que el ejemplo no cunda. Pero en realidad, si se piensa el mundo como una totalidad y como una globalidad, si se concibe que no estamos ante un problema económico, sino que estamos ante un problema político, porque cuando carecemos de liderazgos que nos indiquen un camino cierto y concreto para superar una crisis económica de la magnitud que tiene el mundo, ya no estamos ante un problema de la economía ni de los economistas, estamos ante un problema de la política que no encuentra soluciones ni respuestas ni nuevos modelos para darle solución a estos problemas.\n",
      "\n",
      "Por eso sabemos del enojo de algunos organismos multilaterales con la Argentina y por eso les decimos que no vale la pena enojarse, que lo importante es replantearse en economía y en política qué errores se han cometido; qué cosas se están haciendo mal para poder corregirlas, seguir adelante y remontar esta crisis que, de seguir prolongándose en el tiempo, va a provocar no ya severos problemas económicos sino severos problemas institucionales y políticos.\n",
      "\n",
      "Y lo que más miedo me da como militante política desde muy joven y que le ha tocado vivir períodos en su propio país donde no se respetaron los valores occidentales, donde se violaba, se torturaba y se desaparecía gente, porque había desaparecido la democracia; el temor más grande que tengo como militante política, frente la falta de resolución de esta crisis, es que muchísimos occidentales, que millones dejen de creer que un sistema democrático puede darles las soluciones.\n",
      "\n",
      "Si uno observa la historia de la humanidad, puede observar claramente que los más terribles totalitarismos que asolaron la humanidad fueron precedidos por severas crisis económicas que no dieron solución a la gente, que le quitaron la esperanza y que crearon oídos propicios para los cantos de sirena prometiendo cosas que todos sabemos que es imposible cumplir.\n",
      "\n",
      "Por eso quería referirme en términos enfáticos a cómo abordar el problema o a cómo concebirlo para de esta manera poder encaminar y encarrilar una situación que está descarrilada desde el año 2008 y que desgraciadamente no tiene visos, porque también comenzamos a ver que la crisis de los países desarrollados comienza a trasladarse a los países emergentes que hemos sido motores del crecimiento a nivel global.\n",
      "\n",
      "Y creo que una cosa está vinculada con la otra y que es una falta de interpretación, de codificación adecuada, interpretación correcta de sucesos políticos y económicos que se entremezclan en la historia de la humanidad y nos llevan a concebir falacias como que, en definitiva, determinados movimientos políticos quieren vivir como los occidentales o que, tal vez, determinadas recetas ortodoxas de ajuste pueden conducir a alguna salida o a alguna solución. Nada más equivocado por cierto.\n",
      "\n",
      "Finalmente, quiero referirme a dos temas que pueden parecer, tal vez, de carácter bilateral: uno fue entregado en cada una de las misiones que están aquí representadas, este cuadernillo impreso en español y en inglés acerca de la cuestión colonial de Malvinas.\n",
      "\n",
      "En el pasado mes de junio estuve presente ante el Comité de Descolonización de este organismo, aquí en Nueva York, para presentar nuestro alegato, nuestro deseo de que se dé cumplimiento a la 2065 Resolución de Naciones Unidas, en cuanto a instar al diálogo entre ambos países, el Reino Unido y nosotros, sobre la cuestión de Malvinas.\n",
      "\n",
      "El próximo año, en enero, se van a cumplir 180 años de que el Reino Unido, Inglaterra, usurpara ilegalmente nuestras islas Malvinas. No solamente no ha cejado en esto, no solamente no ha dado oído alguno ni respuesta alguna a un reclamo y a una resolución…en realidad, son muchas las resoluciones de Naciones Unidas, son muchas las resoluciones del Comité de Descolonización, son muchas las resoluciones de distintos organismos como la OEA y como distintas agrupaciones multilaterales, Grupo de Río, etcétera, que piden a Gran Bretaña que se siente a dialogar con la Argentina. No estamos pidiendo que digan que tenemos razón, eso no es diálogo, eso es imponer un criterio; simplemente queremos que se sienten a cumplir con la resolución de Naciones Unidas a dialogar sobre la cuestión de la soberanía en las islas Malvinas. Y además también a desmilitarizar el Atlántico Sur, una región, la América del Sur, de paz, sin diferencias étnicas ni religiosas ni de ninguna naturaleza que nos lleve a enfrentamientos entre nosotros.\n",
      "\n",
      "Por eso, una vez más, reiteramos nuestro pedido. No se puede tener el doble estándar permanente de que aquellos miembros que se sientan en el Consejo de Seguridad en forma permanente, tienen derecho a violar todas y cada una de las disposiciones de Naciones Unidas y el resto de nosotros, simples mortales, debemos hacer saludo y venia ante cualquier resolución del Consejo de Naciones Unidas. Esto no es construir multilateralismo, esto no aporta en nada a la construcción de la paz que todos demandan y que todos necesitamos; esto aporta a generar una sensación creciente de injusticia y de desigualdad entre las naciones que afecta sensiblemente las posibilidades de un mundo más justo, que afecta sensiblemente las posibilidades de vivir en un mundo sin violencia.\n",
      "\n",
      "Por eso reiteramos una vez más que esta no es una cuestión bilateral entre el Reino Unido y nosotros, se ha convertido en una cuestión global, terminar con los últimos vestigios de colonialismo, que ha sido uno de los grandes méritos de Naciones Unidas cuando creó en 1961 el Comité de Descolonización. Ingresar a este siglo XXI sin territorios coloniales hace también al respeto de los derechos humanos. Derechos humanos que, por cierto en mi país, defendemos con mucha fortaleza y que somos un ejemplo a nivel global del cumplimiento de los mismos.\n",
      "\n",
      "Finalmente y vinculado también con lo que empecé, con el repudio y la condena a la muerte del embajador Christopher Stevens en Libia, quiero referirme también a lo que para nosotros, los argentinos, constituye y sigue constituyendo una llaga abierta porque todavía no ha habido justicia y que es la voladura de la mutual israelita AMIA en el año 94 y también de la embajada de Israel en el año 92, hechos absolutamente condenables y deplorables.\n",
      "\n",
      "En reiteradas oportunidades, tanto el ex presidente Kirchner como quien les habla, ha pedido a la República Islámica de Irán, que ha sido acusada por la Justicia argentina de tener participación en dicho crimen, su colaboración y su cooperación.\n",
      "\n",
      "En el año 2010 y en el año 2011, ante la falta de respuesta a ese pedido de colaboración y de cooperación, ofrecí, como alternativa a esto, si es que la República Islámica de Irán no tenía confianza en la equidistancia, en la independencia de la Justicia argentina, adoptar una doctrina que es la doctrina del caso Lockerbie, que todos ustedes recordarán, y que se refiere al atentado contra un avión estadounidense por parte de terroristas libios y que, finalmente, tuvo lugar un juicio en un tercer país y allí pudo repararse, si es que la muerte puede tener reparación, algo del daño que se había hecho.\n",
      "\n",
      "Ofrecimos, precisamente, la elección de común acuerdo entre ambos países, de un tercer país para que se desarrolle allí un juicio que garantice a las partes que todos van a poder acceder a la justicia y, por sobre todas las cosas, que se va a conocer la verdad sobre este hecho tan terrible.\n",
      "\n",
      "Empecé hablando sobre acciones del terrorismo internacional y termino también hablando sobre estas mismas acciones, no ya cometidas en un lejano país africano y contra un miembro del Cuerpo Diplomático estadounidense; estoy hablando de algo sucedido en mi país, en mi tierra y contra ciudadanos argentinos en clara violación también a la soberanía territorial.\n",
      "\n",
      "El día miércoles pasado, 19 para ser más exactos, hemos recibido por parte de la República Islámica de Irán un pedido de reunión bilateral precisamente para dialogar entendemos que sobre este tema. Mi país, que sigue reclamando el diálogo como un instrumento universal y también como un instrumento particular en el caso de Malvinas, ha decidido instruir a nuestro Canciller para que tenga lugar aquí en Naciones Unidas, tal cual lo ha solicitado la República Islámica del Irán, una reunión bilateral entre ambas cancillerías.\n",
      "\n",
      "Debo decirles que espero resultados de esa reunión, resultados en la manifestación que ha hecho la República Islámica de Irán de querer cooperar y colaborar por el esclarecimiento del atentado. Si no lo quiere hacer frente a la Justicia argentina o si no lo quiere hacer frente a un tercer país, esperamos resultados de esa reunión en cuanto a propuestas de cómo encaminar este conflicto tan profundo que data del año 1994.\n",
      "\n",
      "Quiero recordarles a todos que el presidente Kirchner asumió como presidente recién en el año 2003; ya habían transcurrido nueve años del atentado sin tener ningún resultado.\n",
      "\n",
      "Pero también quiero decir que esperamos que de esta reunión haya resultados concretos. Si hay propuestas por parte la República Islámica de Irán para avanzar en un sentido que no sea el que ha propuesto la Argentina, quiero decirles también que, como miembro de un país representativo, republicano y federal, someteré a consideración de las fuerzas que tienen representación parlamentaria en mi país la propuesta que nos haga la República Islámica de Irán. Es un tema demasiado importante para ser resuelto solamente por el Poder Ejecutivo, más allá de que la Constitución le asigne la representación y el ejercicio de las relaciones exteriores. Pero acá no estamos ante un caso de relaciones exteriores típico o casual, estamos ante un hecho que ha marcado la historia de los argentinos y que también se inscribe en la historia del terrorismo internacional.\n",
      "\n",
      "Por eso quiero que tengan la certeza, fundamentalmente los familiares de las víctimas, con los cuales me siento particularmente comprometida, fui durante seis años miembro de la Comisión Bicameral de seguimiento de ambos atentados, de la Embajada y de AMIA, siempre sostuve posturas muy críticas de cómo se desarrollaba la investigación. Por eso creo que tengo la autoridad para poder dirigirme a los familiares de las víctimas, que son realmente los que más respuestas necesitan acerca de lo que pasó allí y de quiénes son los responsables, para decirles que tengan la certeza de que esta Presidenta no va a tomar ninguna resolución respecto de ninguna propuesta que le sea formulada, sin consultar previamente con quienes han sido las víctimas directas de esto. Y, al mismo tiempo también, con las fuerzas políticas con representación parlamentaria en mi país, porque esto no lo puede decidir una sola fuerza política y porque además todos tienen la obligación de emitir opinión pública y fijar posición frente a situaciones de esta naturaleza.\n",
      "\n",
      "Para terminar quiero decirles a todos los miembros de esta Asamblea que la Argentina va a tener el altísimo honor, pero también la altísima responsabilidad, durante los años 2013 y 2014, de ocupar un sillón, de ocupar un lugar de los no permanentes, obviamente, en el Consejo de Seguridad de este Cuerpo.\n",
      "\n",
      "Quiero que sepan que más allá de que esté sentada formalmente la República Argentina, en ese lugar tienen que sentirse representados todos y cada uno de los países que aspiran a la paz en serio como un valor universal, pero con la convicción de que esa paz no es una enunciación formal e ingenua de deseos, en la comprensión de que la paz es un valor que se construye a través de la verdad, de la justicia y de la igualdad. No puede haber paz en un mundo donde no se trate en forma igual a los países; no puede haber paz en un mundo donde haya cada vez más pobres y menos incluidos; no puede haber paz en un mundo no se diga la verdad y las cosas como son.\n",
      "\n",
      "Por eso creemos que en la construcción de esa paz que todos anhelamos, mayores responsabilidades tienen las grandes naciones líderes de este mundo. Como en cada uno de nuestros países la responsabilidad empieza por el presidente y va en forma descendente con sus autoridades, lo mismo ocurre en el mundo.\n",
      "\n",
      "No podemos, más allá del reclamo de igualdad, ignorar las hegemonías, ignorar la importancia de determinados países en la resolución de los conflictos o, tal vez, no solamente en la resolución, sino también en la provocación de los conflictos.\n",
      "\n",
      "Por eso, creo que –y quería decirlo y compartirlo con todos ustedes- ese sillón que ocupará la República Argentina, lo hará en nombre de los valores que siempre ha defendido: la paz, la vigencia irrestricta de los derechos humanos en todos los países, no solamente en aquellos que me resultan simpáticos o en aquellos que no me resultan simpáticos; los derechos humanos son valores universales que deben ser respetados en todas las latitudes y cualquiera sea la denominación de los gobiernos.\n",
      "\n",
      "Y es obligación de esta Asamblea y es obligación de ese Consejo de Seguridad, actuar con un solo estándar para, precisamente, construir ese valor de paz, derechos humanos, igualdad y verdad, que es la única manera de asegurarnos vivir en un mundo más justo y más seguro del que vivimos hoy.\n",
      "\n",
      "Muchísimas gracias y muy buenas tardes a todos y a todas.\n",
      "\n",
      "----------------------------------\n",
      "Muy buenas noches a todos y a todas. Buenas noches señor Vicepresidente electo.\n",
      "\n",
      "Por favor, hoy es una noche muy importante, por favor….\n",
      "\n",
      "Primero quiero decir un inmenso gracias a los 40 millones de argentinos, a todos los hombres y mujeres de todos los partidos políticos que participaron lealmente y legítimamente en estas elecciones, en las distintas categorías de candidatos, presidentes, gobernadores, legisladores nacionales, legisladores provinciales.\n",
      "\n",
      "Quiero también agradecer el llamado solidario, amigo, fraternal, regional de Dilma Rousseff, de la compañera Dilma, de Hugo Chávez, del compañero Hugo, del compañero Pepe Mujica, de Sebastián Piñera, amigo Sebastián Piñera también, de Juan Manuel, del querido presidente y amigo también de Colombia también que acabo de cortarle y que siempre me agradece y me recuerda a Néstor; de Lugo que me estaba llamando y se cortó, del compañero Lugo que me llamó y se cortó, y del resto de los compañeros que seguramente van a llamar como Evo y Rafael que tanto hemos trabajado todos juntos por esta región, la América del Sur, el MERCOSUR, la UNASUR, nuestra casa. Dilma me dijo palabras muy dulces que le agradezco mucho.\n",
      "\n",
      "Agradecer el acompañamiento de todos los hombres y mujeres y de todos estos jóvenes, miles y miles de jóvenes que se han incorporado masivamente a la política, de los trabajadores, de los científicos, de los docentes, de los profesionales, de los productores, de los empresarios, de todo lo que conforma la Argentina.\n",
      "\n",
      "Un inmenso gracias y decirles que recibí también la llamada del Jefe de Gobierno de la Ciudad que se la quiero agradecer. No sean así, me voy a enojar. Y de Hermes Binner que también me acaba de llamar, por favor….lo peor que le puede pasar a la gente es ser pequeñitos, no seamos pequeñitos, seamos grandes, al contrario, en la victoria siempre hay que ser más grande aún, más generoso, más comprensivo y más agradecido.\n",
      "\n",
      "Pero quiero agradecerle a alguien que ya no me puede llamar más, pero que es el gran fundador de la victoria de esta noche. Porque, yo no me la creo, nunca me la creí ni pienso hacerlo. Sin él, sin su inconmensurable valentía y coraje, porque ahora cuando todo cambió y cuando el mundo está patas para arriba, y cuando las cosas se comprobaron que realmente muchas de las que decíamos teníamos razón nosotros, es fácil. Pero cuando él decía esas cosas, era una voz solitaria, condenada, criticada y sin él y sin las cosas a las que él se atrevió, hubiera sido imposible llegar hasta aquí. Y voy a ir un poco más lejos y más sinceramente porque si no lo digo esta noche siento que me va a estallar el corazón y no quiero: fue él el que también en el año 2009 se puso al frente en el momento de mayor adversidad de nuestra gestión. Si él no hubiera ido al frente como lo hizo, si él no hubiera recorrido todo como recorrió, nuestra derrota en la provincia de Buenos Aires hubiera sido terrible y tal vez hoy no podríamos estar aquí donde estamos.\n",
      "\n",
      "En aquella oportunidad, ese hombre que había transformado la Argentina, fue al frente y puso todo y más de lo que tenía que poner. Pero él era así, cada instante se lo jugaba como si fuera la última vez y, sobre todo, porque siempre hizo honor, hasta el último aliento, a que él jamás iba a dejar sus convicciones. No las dejó en la Casa Rosada, pero lo que es más importante, porque el paso por la Casa Rosada siempre es temporal y circunstancial, tampoco dejó sus convicciones mientras vivió y tuvo aliento, que eso sí es más difícil y también más valioso.\n",
      "\n",
      "Esa es la última, no la había escuchado nunca. ¡Qué inventiva, Dios mío, qué creatividad!\n",
      "\n",
      "La verdad que yo no quería dejar pasar esto. Hoy es una noche rara para mí. Me preguntaban a la mañana cuando voté en Río Gallegos y es un día raro porque son muchos sentimientos que se entremezclan y es muy difícil, casi imposible definirlos. Si les digo que estoy feliz, les miento, si les digo que estoy triste, les miento. Si les digo que me gustaría, no sé, qué se yo, ustedes se dan cuenta, pero tenía que decir estas cosas, porque él se las merecía.\n",
      "\n",
      "No las estoy diciendo -que quede claro por favor- como su viuda, las estoy diciendo como su compañera de militancia de toda la vida. Que nadie se equivoque. No hablo de él como marido; hablo de él como cuadro político, tal vez uno de los mejores cuadros políticos que ha dado nuestro país. Que nadie se equivoque. Es el dolor de una mujer, pero es la comprensión de una militante política.\n",
      "\n",
      "También decirles a todos los argentinos, a los que me han votado, a los que nos han votado y a los que no lo han hecho, que yo siento hoy como Presidenta de todos los argentinos, la inmensa responsabilidad de llevar y conducir a nuestro país, la República Argentina, a que viva una historia diferente a la que nos tocó vivir en los últimos 200 años de historia.\n",
      "\n",
      "Yo quiero apelar a la vocación patriótica de todos los argentinos, de sus trabajadores, de sus empresarios, de sus dirigentes políticos, sociales, institucionales, culturales y del pueblo todo, de toda la sociedad. Un país no lo construyen solamente sus dirigentes, lo construye su pueblo. Y yo creo que hoy nuestro pueblo ha dado una muestra de madurez, porque además también debo reconocer que hemos consolidado una de las reformas políticas más importantes de los últimos años. Esa reforma política que soñé como legisladora y que no pude concretar como legisladora pero que pude concretar como Presidenta y que es, precisamente, que los partidos políticos, que son el sustento de la democracia, los instrumentos de la democracia y la democracia es el sistema donde debemos necesariamente instrumentar las instituciones para mejorar la calidad de vida de los hombres y mujeres concretos de nuestro pueblo.\n",
      "\n",
      "Quiero decirles que este sistema de partidos políticos, se va a ver fortalecido por un sistema que ha abierto las puertas a la sociedad y que va a llevar a los dirigentes también a una replanteo profundo de cuáles deben ser las propuestas, de cuáles deben ser las formas y las vocaciones, no para conquistar al electorado, el electorado no es un punto fijo, la conquista siempre implica una actitud de guerra, sino fundamentalmente la de persuadir, la de tener convicciones y, fundamentalmente, que esas convicciones coincidan con las acciones, que los discursos coincidan con las acciones para poder lograr la voluntad popular.\n",
      "\n",
      "Y algunos que no creían, porque muchos hablan, muchos de los que tienen micrófono hablan de las instituciones, pero todos los días las demuelen un poquito, que íbamos a hacer las internas abiertas, simultáneas y obligatorias. Me acuerdo que hasta que 15 ó 20 días antes nuestro ministro del Interior, tuvo que estar confirmando que esas se hacían. Bueno, dijeron que iba a ir poca gente. Hubo un maravilloso caudal superior, inclusive las presidenciales de convocatoria. Decían que esto iba a eliminar a los partidos chicos. Tampoco fue así, porque esa maravillosa clave que fue la Ley de Medios y la Ley de Reforma permitió que todas las fuerzas políticas pudieran acceder a los espacios audiovisuales fundamentales para poder hacer conocer en el mundo de hoy las propuestas a todos.\n",
      "\n",
      "Y yo quiero convocar a todos los argentinos a la unidad nacional, a que no nos distraigan con enfrentamientos inútiles, a que no discutamos sobre los hechos y las realidades. Que en todo caso si esos hechos y esas realidades pueden mejorarse, puedan enderezarse nos digan cómo hacerlo. Tenemos que pasar un país diferente, donde el que venga construya sobre el que ya hizo, porque el ya hizo, hizo bien pero le faltó algo y entonces lo eligieron a otro. Esta es la Argentina con la que yo sueño, una Argentina donde tengamos continuidad, que no significa continuidad de personas y de partidos, sino de proyecto político, de Nación y de país. De eso estoy hablando, de esa continuidad: proyecto político y de país.\n",
      "\n",
      "Entiéndase, soy una mujer de 58 años que milita. Gracias, querido, pero tengo 58 años y los tengo…..Soy una mujer que milita desde muy joven. He llegado a lugares que en mi vida pensé que podía llegar. No solamente tuve el honor de ser la primera mujer electa Presidenta, sino que tengo el honor de ser la primera mujer también reelecta como Presidenta. Yo no quiero más nada. Mi compañero también fue presidente. ¿Qué más puedo querer?\n",
      "\n",
      "Lo único que quiero es contribuir, cooperar como argentina con la más alta responsabilidad, a seguir agrandando la Argentina, a que siga creciendo, a seguir generando más puestos de trabajo, más industrialización, más valor agregado, más ciencia y tecnología, más de todo lo que hemos hecho porque necesitamos también más escuelas, más caminos, más hospitales, más salud.\n",
      "\n",
      "Yo quiero contribuir a hacer eso, una persona que haya ayudado a cambiar la historia junto al resto de los argentinos. Porque también quiero decirles que sola no se puede, necesitamos la colaboración y la comprensión de todos los argentinos.\n",
      "\n",
      "Pero quiero decirles también que por comprensión histórica, como dijo él en aquel discurso memorable del 25 de mayo de 2003, por voluntad popular y por decisión política, cuenten conmigo para seguir profundizando un proyecto de país que ayude a mejorar la vida de los 40 millones de argentinos. Para eso nos necesitamos unidos, que no significa pegoteados, que no significa que debatamos, pero también significa reconocer que cuando una sociedad se expresa y decide en elecciones libres, populares y democráticas adoptar una decisión, esa decisión debe ser respetada y la persona y las personas que han logrado ese mandato, cualquiera sea el lugar, deben ser también apoyadas y sufrir y tener la colaboración del resto de la sociedad, del resto de las fuerzas políticas y culturales o económicas.\n",
      "\n",
      "Esto no significa que no haya intereses, no vamos a cometer la ingenuidad de no creer intereses y seguramente proyectos políticos que piensan que es mejor retornar a otro país o a otro modelo.\n",
      "\n",
      "Yo no soy ingenua ni soy tonta. Pero sé que son minorías, poderosas pero minorías. Depende, entonces, de las grandes mayorías, conformadas por nuestros trabajadores y por nuestras clases medias, no ser desviados del camino como nos ha pasado en tantas oportunidades de la historia y hacer fracasar proyectos que servían al conjunto de la Nación. Aún aquellos que nos derribaban, muchas veces, inclusive, dirigidos desde afuera, casi a nivel inconsciente o consciente.\n",
      "\n",
      "Yo quiero apelar a todos los que están identificados con los intereses del pueblo, de los distintos lugares, partidos y sectores. A esta mujer no la mueve ninguna ambición, no la mueve ningún interés, solo la mueve el profundo amor que siento por la Argentina, por la patria y la necesidad de honrar la memoria de él y de miles como él que dieron sus vidas por la patria. De eso me siento responsable, de ese legado histórico y les pido que nos acompañen humildemente, muy humildemente.\n",
      "\n",
      "La verdad que cuando pienso en él en ese 25 de mayo de 2003, con su apenas 22 por ciento de los votos. ¡Dios mío, todo lo que fue capaz de hacer! Y veo hoy estos números, que la verdad son impresionantes. Esto números que impresionan y que agradezco infinitamente a todas las provincias argentinas…Tenemos que esperar que incorporen a nuestra querida provincia de Buenos Aires para tener exactamente el número.\n",
      "\n",
      "Pero la verdad que son números que si yo les decía o cualquiera de nosotros hubiera dicho esto hace apenas dos años, nos hubieran tratado de locos. Y la verdad que sí, la verdad que esto también demuestra otra cosa y esto creo que es para la política y para todos los hombres y mujeres que en distintos partidos políticos, con el derecho que cada uno tiene a militar dónde mejor le parezca, debemos aprender todos lo importante que es la voluntad, que no es voluntarismo. Lo importante que es la voluntad unida a la convicción.\n",
      "\n",
      "Siempre pensaban que no se podía luchar contra determinadas cosas preestablecidas en la Argentina, que había que pedirles permiso a algunos para ver qué se podía decir y entonces lograr cinco minutos más de pantalla o cuatro líneas más en un periódico.\n",
      "\n",
      "Y yo creo que lo importante es lograr un lugar en el corazón de nuestro pueblo; creo que lo importante es saber leer los ojos de los millones de argentinos. Muchas veces los dirigentes se desesperan leyendo los diarios y mirando televisión. Yo les pido que miren más los ojos de los argentinos, que recorran el país de punta a punta y vean. Ahí van a comprender que todavía nos faltan muchas cosas, pero si alguien conoció la Argentina antes de 2003, van a poder ver cuánto que hemos avanzado pese a todo lo que todavía nos falta.\n",
      "\n",
      "Tengan confianza en ustedes mismos, tengan confianza en sus ideas, esto no es cuestión de imagen, esto es cuestión de fe, es cuestión de convicción, es cuestión de pensar que uno está haciendo lo mejor y no desfallecer ni aún cuando pareciera que todo está perdido. Es más, cuando todo está perdido, es el mejor momento para luchar más que nunca por lo que uno cree, por su patria, por el país, por las ideas.\n",
      "\n",
      "Es cierto que a algunos se les va la mano con eso, a él se le fue la mano; a él se le fue la mano y se le fue la vida. Pero bueno…\n",
      "\n",
      "Yo quiero que sea un ejemplo para todos los jóvenes y también para todos los hombres y mujeres de la política, de los que hemos estado siempre en un mismo lugar, que también es importante la reconstrucción del sistema de partidos políticos. No puede uno andar saltimbanqueando de un lado para el otro. Porque eso tampoco… Eso no significa que uno no pueda cambiar, pero nunca tantas veces y de lados tan opuestos de un lado al otro, porque, bueno, me parece que más que cambio, ya es otra cosa.\n",
      "\n",
      "También quiero agradecer a todos las cifras que nos llegan desde las provincias, son maravillosas. Acá en Capital Federal, Boudou, también hemos ganado los diputados, hemos ganado en la Capital Federal. No sé dónde andará Roberto Feletti, ¿dónde está Feletti? Hola, Roberto, felicitaciones a todos los compañeros.\n",
      "\n",
      "No quiero ser injusta, quiero felicitar a todo el país, a todas las provincias hermanas, a todas, a la querida provincia de Buenos Aires, a Mendoza, Paco Pérez, parece que es el nuevo gobernador de Mendoza, un joven talentoso. Quiero agradecer a La Matanza, a Tierra del Fuego, a Santa Cruz, a Chubut, a Río Negro, al Neuquén, a La Pampa, a Córdoba, a Santa Fe, a todas, a Mendoza, a San Juan, a Salta, a Tucumán, Misiones, Jujuy, Corrientes, Entre Ríos, me dijeron que Blanquita Ozuna, es la nueva intendenta de Paraná, la querida Blanquita. Blanquita Ozuna, una querida compañera, fuimos senadoras juntas, con ella, con el Pemo Guastavino. El otro día estuve en Gualeguaychú, en su ciudad, con el Pemo y su mamá sentada en primera línea, con su pañuelo blanco. Pemo tiene dos hermanos desaparecidos y acá las queridas Madres, que nos acompañan como siempre, las Abuelas, los HIJOS, los NIETOS, gracias también.\n",
      "\n",
      "A mí me da mucha tranquilidad cuando ustedes están conmigo porque quiere decir que todavía no me mandé ninguna macana grande. Me dan mucha tranquilidad, gracias. Porque errores cometemos todos y siempre.\n",
      "\n",
      "Quiero agradecerle a todos, pero quiero también, para finalizar porque quiero ir a la Plaza a saludar un poquito porque hay mucha gente, voy a saludar un poquito a la Plaza.\n",
      "\n",
      "Antes de volver a agradecer a todos los argentinos, antes de volver a convocarlos a trabajar juntos, a la unidad nacional, un mundo turbulento, difícil, complejo que exige que todos depongamos parte de nuestras aspiraciones para poder lograr que el conjunto pueda realizarse y no solo los sectores, antes de terminar, quiero llamar a mi hija, a mi hijo, a Máximo, que no pudo estar la otra vez por lo que le había pasado a Rocío, estos son mi sostén también.\n",
      "\n",
      "Bueno, y ahora que pase también la novia de Boudou, venía Agustina, vení linda, vení. ¡Miren que novia linda que tiene Boudou! Vení Agustina, dale, dale, es un día también de alegría, no tenemos que negarnos tampoco a la alegría. Vení, quedate ahí al lado de él, nena.\n",
      "\n",
      "Agradecerles a todos los que militaron, a los que rompieron el alma, a los fiscales en todo el país, a todas las fuerzas amigas también que colaboraron para construir esta victoria que, vuelvo a decirlo, no es una victoria personal ni partidaria. Quiero que sea la victoria de todos los argentinos, porque para eso voy a trabajar como siempre lo he hecho, siempre lo he hecho así.\n",
      "\n",
      "Una vez más agradecerles, pedirles disculpas por ahí si uno…en fin…este es un mes muy especial…Sí ya sé, gracias. Es un mes muy especial, bueno, estamos apechugándola y lo vamos a hacer porque tenemos que aprender lo fuerte que era él, de la fortaleza de él y, además, él está aquí hoy más que nunca, estoy segura, absolutamente.\n",
      "\n",
      "Por eso agradecerles, fuerza, fuerza Argentina, fuerza a todos los argentinos, a los 40 millones de argentinos, a seguir trabajando como en estos años en los que hemos logrado construir tantas cosas.\n",
      "\n",
      "Muchas gracias, los quiero mucho.\n",
      "\n",
      "----------------------------------\n"
     ]
    }
   ],
   "source": [
    "for i in range(3):\n",
    "    idx = random.choice(range(len(ps)))\n",
    "    print(ps[idx])\n",
    "    print(\"----------------------------------\")"
   ]
  },
  {
   "cell_type": "markdown",
   "metadata": {},
   "source": [
    "Definimos la siguiente función que, dado una lista de párrafos, retorna:\n",
    "* *ret*: un *numpy array* 3-dimensional de NxLxV (N: cantidad de parrafos, L:longitud del maximo parrafo, V: tamaño del vocabulario). Cada parrafo es \"alargado\" (agregando caracteres `\\n`) para tener la longitud del parrafo mas largo. Ademas, cada caracter se *encodea* con one-hot encoding teniendo en cuenta el identificador numerico de *char_to_ix*.\n",
    "* *lens*: un *numpy array* 1-dimensional con las longitudes de cada parrafo\n",
    "* *char_to_ix*: un mapa para acceder con un caracter a un identificador asignado\n",
    "* *ix_to_char*: un mapa para acceder con un identificador al caracter correspondiente"
   ]
  },
  {
   "cell_type": "code",
   "execution_count": 10,
   "metadata": {},
   "outputs": [],
   "source": [
    "def preprocess(paragraphs):\n",
    "    chars = set()\n",
    "    \n",
    "    for each in paragraphs:\n",
    "        chars.update(set(each))\n",
    "    \n",
    "    char_to_ix = { ch:i for i,ch in enumerate(chars) }\n",
    "    ix_to_char = { i:ch for i,ch in enumerate(chars) }\n",
    "    \n",
    "    aux = len(char_to_ix)\n",
    "    char_to_ix[\"<START>\"] = aux\n",
    "    ix_to_char[aux] = \"<START>\"\n",
    "    \n",
    "    vocab_size = len(char_to_ix)\n",
    "\n",
    "    max_p = max([len(i) for i in paragraphs]) + 1 # Plus one because of the START token\n",
    "    \n",
    "    ret = np.zeros(shape=(len(paragraphs), max_p, vocab_size), dtype=np.uint8)\n",
    "    lens = np.zeros(shape=len(paragraphs), dtype=np.uint8)\n",
    "\n",
    "    for idx, each in enumerate(paragraphs):\n",
    "        lens[idx] = len(each) + 1\n",
    "        for i in range(max_p - len(each) - 1):\n",
    "            each += '\\n'\n",
    "\n",
    "        aux = np.zeros(shape=(max_p, vocab_size))\n",
    "        aux[0][char_to_ix[\"<START>\"]] = 1\n",
    "        for i, c in enumerate(each):\n",
    "            aux[i+1][char_to_ix[c]] = 1\n",
    "        ret[idx] = aux\n",
    "        \n",
    "    return ret, lens, char_to_ix, ix_to_char"
   ]
  },
  {
   "cell_type": "markdown",
   "metadata": {},
   "source": [
    "Ejecutemos la función sobre la *data*:"
   ]
  },
  {
   "cell_type": "code",
   "execution_count": 11,
   "metadata": {},
   "outputs": [],
   "source": [
    "data, lens, char_to_ix, ix_to_char = preprocess(ps)"
   ]
  },
  {
   "cell_type": "code",
   "execution_count": 12,
   "metadata": {},
   "outputs": [
    {
     "name": "stdout",
     "output_type": "stream",
     "text": [
      "(79, 154057, 107)\n"
     ]
    }
   ],
   "source": [
    "print(data.shape)"
   ]
  },
  {
   "cell_type": "markdown",
   "metadata": {},
   "source": [
    "## Definiendo el modelo"
   ]
  },
  {
   "cell_type": "markdown",
   "metadata": {},
   "source": [
    "Vamos a utilizar una implementacion de red neuronal recurrente llamada LSTM. En términos de utilidad, es similar a una red neuronal recurrente tradicional. Su arquitectura unicamente propone mejoras para prevenir problemas y tiempos de convergencia. Para más información de estas redes, leer el [siguiente post](http://colah.github.io/posts/2015-08-Understanding-LSTMs/)."
   ]
  },
  {
   "cell_type": "code",
   "execution_count": 13,
   "metadata": {},
   "outputs": [],
   "source": [
    "BATCH_SIZE = 64\n",
    "INPUT_SIZE = len(ix_to_char)\n",
    "\n",
    "TIMES = 32\n",
    "N_HIDDEN = 512"
   ]
  },
  {
   "cell_type": "markdown",
   "metadata": {},
   "source": [
    "A diferencia de los otros *notebooks* (el de [Simpsons](./Simpsons Classification.ipynb) y el [MNIST](MNIST Classification.ipynb)), no van a haber funciones para definir el grafo, sino que todos los nodos se definen como variables globales en las siguientes celdas.\n",
    "\n",
    "No vamos a entrar en profundidad en los detalles de implementacion de Tensorflow. Para aquello, puede recurrir a los tutoriales oficiales [aqui](https://www.tensorflow.org/tutorials/), muy simples de seguir y entender."
   ]
  },
  {
   "cell_type": "markdown",
   "metadata": {},
   "source": [
    "Los siguientes nodos definen los `placeholders` para introducir los datos en la red."
   ]
  },
  {
   "cell_type": "code",
   "execution_count": 14,
   "metadata": {},
   "outputs": [
    {
     "name": "stdout",
     "output_type": "stream",
     "text": [
      "\n",
      "WARNING: The TensorFlow contrib module will not be included in TensorFlow 2.0.\n",
      "For more information, please see:\n",
      "  * https://github.com/tensorflow/community/blob/master/rfcs/20180907-contrib-sunset.md\n",
      "  * https://github.com/tensorflow/addons\n",
      "If you depend on functionality not listed there, please file an issue.\n",
      "\n"
     ]
    }
   ],
   "source": [
    "tf.reset_default_graph()\n",
    "\n",
    "init = tf.contrib.layers.xavier_initializer()\n",
    "x = tf.placeholder(tf.float32, shape=(None, TIMES, INPUT_SIZE), name=\"x\")\n",
    "y = tf.placeholder(tf.float32, shape=(None, TIMES, INPUT_SIZE))\n",
    "seq_len = tf.placeholder(tf.int64, shape=(None), name=\"seq_len\")\n",
    "\n",
    "x_2 = tf.unstack(x, axis=1)\n",
    "\n",
    "init_state_c_1 = tf.placeholder(tf.float32, shape=[None, N_HIDDEN], name=\"init_state_c_1\")\n",
    "init_state_h_1 = tf.placeholder(tf.float32, shape=[None, N_HIDDEN], name=\"init_state_h_1\")\n",
    "\n",
    "init_state_c_2 = tf.placeholder(tf.float32, shape=[None, N_HIDDEN], name=\"init_state_c_2\")\n",
    "init_state_h_2 = tf.placeholder(tf.float32, shape=[None, N_HIDDEN], name=\"init_state_h_2\")"
   ]
  },
  {
   "cell_type": "markdown",
   "metadata": {},
   "source": [
    "A continuación definimos la red neuronal recurrente. En este caso, la red esta compuesta por 2 capas de LSTMs con `N_HIDDEN` unidades de neuronas cada una. "
   ]
  },
  {
   "cell_type": "code",
   "execution_count": 15,
   "metadata": {},
   "outputs": [
    {
     "name": "stdout",
     "output_type": "stream",
     "text": [
      "WARNING:tensorflow:From C:\\Users\\ionat\\AppData\\Local\\Temp\\ipykernel_13964\\2247280467.py:1: BasicLSTMCell.__init__ (from tensorflow.python.ops.rnn_cell_impl) is deprecated and will be removed in a future version.\n",
      "Instructions for updating:\n",
      "This class is equivalent as tf.keras.layers.LSTMCell, and will be replaced by that in Tensorflow 2.0.\n",
      "WARNING:tensorflow:From C:\\Users\\ionat\\AppData\\Local\\Temp\\ipykernel_13964\\2247280467.py:4: MultiRNNCell.__init__ (from tensorflow.python.ops.rnn_cell_impl) is deprecated and will be removed in a future version.\n",
      "Instructions for updating:\n",
      "This class is equivalent as tf.keras.layers.StackedRNNCells, and will be replaced by that in Tensorflow 2.0.\n",
      "WARNING:tensorflow:From C:\\Users\\ionat\\AppData\\Local\\Temp\\ipykernel_13964\\2247280467.py:9: static_rnn (from tensorflow.python.ops.rnn) is deprecated and will be removed in a future version.\n",
      "Instructions for updating:\n",
      "Please use `keras.layers.RNN(cell, unroll=True)`, which is equivalent to this API\n",
      "WARNING:tensorflow:From f:\\Proyectos\\DeepLearning\\DL-workshop\\.venv_tf1\\lib\\site-packages\\tensorflow\\python\\ops\\rnn.py:1370: to_int32 (from tensorflow.python.ops.math_ops) is deprecated and will be removed in a future version.\n",
      "Instructions for updating:\n",
      "Use tf.cast instead.\n",
      "WARNING:tensorflow:From f:\\Proyectos\\DeepLearning\\DL-workshop\\.venv_tf1\\lib\\site-packages\\tensorflow\\python\\ops\\control_flow_ops.py:423: colocate_with (from tensorflow.python.framework.ops) is deprecated and will be removed in a future version.\n",
      "Instructions for updating:\n",
      "Colocations handled automatically by placer.\n",
      "WARNING:tensorflow:From C:\\Users\\ionat\\AppData\\Local\\Temp\\ipykernel_13964\\2247280467.py:18: dense (from tensorflow.python.layers.core) is deprecated and will be removed in a future version.\n",
      "Instructions for updating:\n",
      "Use keras.layers.dense instead.\n"
     ]
    }
   ],
   "source": [
    "cell_1 = tf.contrib.rnn.BasicLSTMCell(N_HIDDEN)\n",
    "cell_2 = tf.contrib.rnn.BasicLSTMCell(N_HIDDEN)\n",
    "\n",
    "cell = tf.contrib.rnn.MultiRNNCell([cell_1, cell_2])\n",
    "    \n",
    "t_1 = tf.contrib.rnn.LSTMStateTuple(init_state_c_1, init_state_h_1)\n",
    "t_2 = tf.contrib.rnn.LSTMStateTuple(init_state_c_2, init_state_h_2)\n",
    "\n",
    "outputs, states = tf.contrib.rnn.static_rnn(cell, x_2, dtype=tf.float32, sequence_length=seq_len, initial_state=(t_1, t_2))\n",
    "\n",
    "states_0 = tf.nn.rnn_cell.LSTMStateTuple(tf.identity(states[0][0], name=\"states_0_c\"), tf.identity(states[0][1], name=\"states_0_h\"))\n",
    "states_1 = tf.nn.rnn_cell.LSTMStateTuple(tf.identity(states[1][0], name=\"states_1_c\"), tf.identity(states[1][1], name=\"states_1_h\"))\n",
    "\n",
    "states = (states_0, states_1)\n",
    "\n",
    "outputs_2 = tf.stack(outputs, axis=1)\n",
    "\n",
    "out = tf.layers.dense(outputs_2, units=INPUT_SIZE, kernel_initializer=init, name=\"out\")"
   ]
  },
  {
   "cell_type": "markdown",
   "metadata": {},
   "source": [
    "Finalmente, definimos nuestro costo y las operaciones de minimización."
   ]
  },
  {
   "cell_type": "code",
   "execution_count": 16,
   "metadata": {},
   "outputs": [
    {
     "name": "stdout",
     "output_type": "stream",
     "text": [
      "WARNING:tensorflow:From C:\\Users\\ionat\\AppData\\Local\\Temp\\ipykernel_13964\\2688538246.py:3: softmax_cross_entropy_with_logits (from tensorflow.python.ops.nn_ops) is deprecated and will be removed in a future version.\n",
      "Instructions for updating:\n",
      "\n",
      "Future major versions of TensorFlow will allow gradients to flow\n",
      "into the labels input on backprop by default.\n",
      "\n",
      "See `tf.nn.softmax_cross_entropy_with_logits_v2`.\n",
      "\n"
     ]
    }
   ],
   "source": [
    "out_softmax = tf.nn.softmax(out, name=\"out_softmax\")\n",
    "\n",
    "loss = tf.reduce_mean(tf.nn.softmax_cross_entropy_with_logits(logits=out, labels=y))\n",
    "\n",
    "tf.summary.scalar('loss', loss)\n",
    "\n",
    "merge = tf.summary.merge_all()\n",
    "\n",
    "upd = tf.train.AdamOptimizer().minimize(loss)"
   ]
  },
  {
   "cell_type": "markdown",
   "metadata": {},
   "source": [
    "## Corriendo la red"
   ]
  },
  {
   "cell_type": "code",
   "execution_count": 17,
   "metadata": {},
   "outputs": [
    {
     "name": "stdout",
     "output_type": "stream",
     "text": [
      "(79, 154057, 107)\n"
     ]
    }
   ],
   "source": [
    "print(data.shape)"
   ]
  },
  {
   "cell_type": "markdown",
   "metadata": {},
   "source": [
    "Definimos la siguiente funcion que es capaz de correr una generación."
   ]
  },
  {
   "cell_type": "code",
   "execution_count": 18,
   "metadata": {},
   "outputs": [],
   "source": [
    "def test(max_=1000, T=None):\n",
    "\n",
    "    pred = \"<START>\"\n",
    "    \n",
    "    c_1 = np.zeros((1, N_HIDDEN))\n",
    "    h_1 = np.zeros((1, N_HIDDEN))\n",
    "    \n",
    "    c_2 = np.zeros((1, N_HIDDEN))\n",
    "    h_2 = np.zeros((1, N_HIDDEN))\n",
    "    \n",
    "    ret = []\n",
    "        \n",
    "    while True:\n",
    "        \n",
    "        in_ = np.zeros(shape=(1, TIMES, INPUT_SIZE), dtype=np.uint)\n",
    "        in_[0, 0, char_to_ix[pred]] = 1\n",
    "\n",
    "        if T is None:\n",
    "            net_out, net_states = sess.run([out_softmax, states], feed_dict={x: in_, init_state_c_1: c_1, init_state_h_1: h_1, init_state_c_2: c_2, init_state_h_2: h_2, seq_len: np.ones(shape=(1,))})\n",
    "            c_1, h_1 = net_states[0].c, net_states[0].h\n",
    "            c_2, h_2 = net_states[1].c, net_states[1].h\n",
    "            p = np.squeeze(net_out)[0]\n",
    "        else:\n",
    "            net_out, net_states = sess.run([out, states], feed_dict={x: in_, init_state_c_1: c_1, init_state_h_1: h_1, init_state_c_2: c_2, init_state_h_2: h_2, seq_len: np.ones(shape=(1,))})\n",
    "            c_1, h_1 = net_states[0].c, net_states[0].h\n",
    "            c_2, h_2 = net_states[1].c, net_states[1].h\n",
    "            p = np.squeeze(net_out)[0]\n",
    "            p = np.exp(p/T) / np.sum(np.exp(p/T))\n",
    "            \n",
    "        char_out = ix_to_char[int(np.random.choice(np.arange(INPUT_SIZE), p=p))]\n",
    "        ret.append(char_out)\n",
    "\n",
    "        pred = char_out\n",
    "                                                                         \n",
    "        if char_out == '\\n' or len(ret) > max_:\n",
    "            break\n",
    "        \n",
    "    return ret                                                                       "
   ]
  },
  {
   "cell_type": "markdown",
   "metadata": {},
   "source": [
    "La red va a entrenarse con el siguiente *script*. Cada 10 epocas, el sistema va a generar un párrafo con el entrenamiento que tiene hasta ese momento."
   ]
  },
  {
   "cell_type": "code",
   "execution_count": 19,
   "metadata": {
    "scrolled": true
   },
   "outputs": [
    {
     "name": "stderr",
     "output_type": "stream",
     "text": [
      "  0%|          | 0/1000 [00:00<?, ?it/s]"
     ]
    },
    {
     "name": "stdout",
     "output_type": "stream",
     "text": [
      "”iXW¿T7E4TáYásÚNFg;<START>\n",
      "\n"
     ]
    },
    {
     "name": "stderr",
     "output_type": "stream",
     "text": [
      "  1%|          | 10/1000 [00:37<47:39,  2.89s/it] "
     ]
    },
    {
     "name": "stdout",
     "output_type": "stream",
     "text": [
      "/s–qse as agddaeba;ñ,toaso  ser ms rrsimnr Dasi:l7 Sea  yesa e   e,d;dumode(an oi honnadoriald ane s  lañmonptoa odd d eis ntcs euérreeso enanieBeai  d d p eaecíeuSioeaotn eaédeagsadsvdejospla-lgn oe r\n"
     ]
    },
    {
     "name": "stderr",
     "output_type": "stream",
     "text": [
      "  1%|          | 12/1000 [00:45<1:02:27,  3.79s/it]\n"
     ]
    },
    {
     "ename": "KeyboardInterrupt",
     "evalue": "",
     "output_type": "error",
     "traceback": [
      "\u001b[1;31m---------------------------------------------------------------------------\u001b[0m",
      "\u001b[1;31mKeyboardInterrupt\u001b[0m                         Traceback (most recent call last)",
      "\u001b[1;32m~\\AppData\\Local\\Temp\\ipykernel_13964\\2146385572.py\u001b[0m in \u001b[0;36m<module>\u001b[1;34m\u001b[0m\n\u001b[0;32m     56\u001b[0m \u001b[1;33m\u001b[0m\u001b[0m\n\u001b[0;32m     57\u001b[0m \u001b[1;33m\u001b[0m\u001b[0m\n\u001b[1;32m---> 58\u001b[1;33m         \u001b[0mm\u001b[0m\u001b[1;33m,\u001b[0m \u001b[0mstates_\u001b[0m\u001b[1;33m,\u001b[0m \u001b[0m_\u001b[0m \u001b[1;33m=\u001b[0m \u001b[0msess\u001b[0m\u001b[1;33m.\u001b[0m\u001b[0mrun\u001b[0m\u001b[1;33m(\u001b[0m\u001b[1;33m[\u001b[0m\u001b[0mmerge\u001b[0m\u001b[1;33m,\u001b[0m \u001b[0mstates\u001b[0m\u001b[1;33m,\u001b[0m \u001b[0mupd\u001b[0m\u001b[1;33m]\u001b[0m\u001b[1;33m,\u001b[0m \u001b[0mfeed_dict\u001b[0m\u001b[1;33m=\u001b[0m\u001b[1;33m{\u001b[0m\u001b[0mx\u001b[0m\u001b[1;33m:\u001b[0m \u001b[0mbatch_x\u001b[0m\u001b[1;33m,\u001b[0m \u001b[0my\u001b[0m\u001b[1;33m:\u001b[0m \u001b[0mbatch_y\u001b[0m\u001b[1;33m,\u001b[0m \u001b[0minit_state_c_1\u001b[0m\u001b[1;33m:\u001b[0m \u001b[0mc_l_1\u001b[0m\u001b[1;33m,\u001b[0m \u001b[0minit_state_h_1\u001b[0m\u001b[1;33m:\u001b[0m \u001b[0mh_l_1\u001b[0m\u001b[1;33m,\u001b[0m \u001b[0minit_state_c_2\u001b[0m\u001b[1;33m:\u001b[0m \u001b[0mc_l_2\u001b[0m\u001b[1;33m,\u001b[0m \u001b[0minit_state_h_2\u001b[0m\u001b[1;33m:\u001b[0m \u001b[0mh_l_2\u001b[0m\u001b[1;33m,\u001b[0m \u001b[0mseq_len\u001b[0m\u001b[1;33m:\u001b[0m \u001b[0mbatch_lens_aux\u001b[0m\u001b[1;33m}\u001b[0m\u001b[1;33m)\u001b[0m\u001b[1;33m\u001b[0m\u001b[1;33m\u001b[0m\u001b[0m\n\u001b[0m\u001b[0;32m     59\u001b[0m         \u001b[0mtrain_writer\u001b[0m\u001b[1;33m.\u001b[0m\u001b[0madd_summary\u001b[0m\u001b[1;33m(\u001b[0m\u001b[0mm\u001b[0m\u001b[1;33m,\u001b[0m \u001b[0mcounter\u001b[0m\u001b[1;33m)\u001b[0m\u001b[1;33m\u001b[0m\u001b[1;33m\u001b[0m\u001b[0m\n\u001b[0;32m     60\u001b[0m \u001b[1;33m\u001b[0m\u001b[0m\n",
      "\u001b[1;32mf:\\Proyectos\\DeepLearning\\DL-workshop\\.venv_tf1\\lib\\site-packages\\tensorflow\\python\\client\\session.py\u001b[0m in \u001b[0;36mrun\u001b[1;34m(self, fetches, feed_dict, options, run_metadata)\u001b[0m\n\u001b[0;32m    927\u001b[0m     \u001b[1;32mtry\u001b[0m\u001b[1;33m:\u001b[0m\u001b[1;33m\u001b[0m\u001b[1;33m\u001b[0m\u001b[0m\n\u001b[0;32m    928\u001b[0m       result = self._run(None, fetches, feed_dict, options_ptr,\n\u001b[1;32m--> 929\u001b[1;33m                          run_metadata_ptr)\n\u001b[0m\u001b[0;32m    930\u001b[0m       \u001b[1;32mif\u001b[0m \u001b[0mrun_metadata\u001b[0m\u001b[1;33m:\u001b[0m\u001b[1;33m\u001b[0m\u001b[1;33m\u001b[0m\u001b[0m\n\u001b[0;32m    931\u001b[0m         \u001b[0mproto_data\u001b[0m \u001b[1;33m=\u001b[0m \u001b[0mtf_session\u001b[0m\u001b[1;33m.\u001b[0m\u001b[0mTF_GetBuffer\u001b[0m\u001b[1;33m(\u001b[0m\u001b[0mrun_metadata_ptr\u001b[0m\u001b[1;33m)\u001b[0m\u001b[1;33m\u001b[0m\u001b[1;33m\u001b[0m\u001b[0m\n",
      "\u001b[1;32mf:\\Proyectos\\DeepLearning\\DL-workshop\\.venv_tf1\\lib\\site-packages\\tensorflow\\python\\client\\session.py\u001b[0m in \u001b[0;36m_run\u001b[1;34m(self, handle, fetches, feed_dict, options, run_metadata)\u001b[0m\n\u001b[0;32m   1150\u001b[0m     \u001b[1;32mif\u001b[0m \u001b[0mfinal_fetches\u001b[0m \u001b[1;32mor\u001b[0m \u001b[0mfinal_targets\u001b[0m \u001b[1;32mor\u001b[0m \u001b[1;33m(\u001b[0m\u001b[0mhandle\u001b[0m \u001b[1;32mand\u001b[0m \u001b[0mfeed_dict_tensor\u001b[0m\u001b[1;33m)\u001b[0m\u001b[1;33m:\u001b[0m\u001b[1;33m\u001b[0m\u001b[1;33m\u001b[0m\u001b[0m\n\u001b[0;32m   1151\u001b[0m       results = self._do_run(handle, final_targets, final_fetches,\n\u001b[1;32m-> 1152\u001b[1;33m                              feed_dict_tensor, options, run_metadata)\n\u001b[0m\u001b[0;32m   1153\u001b[0m     \u001b[1;32melse\u001b[0m\u001b[1;33m:\u001b[0m\u001b[1;33m\u001b[0m\u001b[1;33m\u001b[0m\u001b[0m\n\u001b[0;32m   1154\u001b[0m       \u001b[0mresults\u001b[0m \u001b[1;33m=\u001b[0m \u001b[1;33m[\u001b[0m\u001b[1;33m]\u001b[0m\u001b[1;33m\u001b[0m\u001b[1;33m\u001b[0m\u001b[0m\n",
      "\u001b[1;32mf:\\Proyectos\\DeepLearning\\DL-workshop\\.venv_tf1\\lib\\site-packages\\tensorflow\\python\\client\\session.py\u001b[0m in \u001b[0;36m_do_run\u001b[1;34m(self, handle, target_list, fetch_list, feed_dict, options, run_metadata)\u001b[0m\n\u001b[0;32m   1326\u001b[0m     \u001b[1;32mif\u001b[0m \u001b[0mhandle\u001b[0m \u001b[1;32mis\u001b[0m \u001b[1;32mNone\u001b[0m\u001b[1;33m:\u001b[0m\u001b[1;33m\u001b[0m\u001b[1;33m\u001b[0m\u001b[0m\n\u001b[0;32m   1327\u001b[0m       return self._do_call(_run_fn, feeds, fetches, targets, options,\n\u001b[1;32m-> 1328\u001b[1;33m                            run_metadata)\n\u001b[0m\u001b[0;32m   1329\u001b[0m     \u001b[1;32melse\u001b[0m\u001b[1;33m:\u001b[0m\u001b[1;33m\u001b[0m\u001b[1;33m\u001b[0m\u001b[0m\n\u001b[0;32m   1330\u001b[0m       \u001b[1;32mreturn\u001b[0m \u001b[0mself\u001b[0m\u001b[1;33m.\u001b[0m\u001b[0m_do_call\u001b[0m\u001b[1;33m(\u001b[0m\u001b[0m_prun_fn\u001b[0m\u001b[1;33m,\u001b[0m \u001b[0mhandle\u001b[0m\u001b[1;33m,\u001b[0m \u001b[0mfeeds\u001b[0m\u001b[1;33m,\u001b[0m \u001b[0mfetches\u001b[0m\u001b[1;33m)\u001b[0m\u001b[1;33m\u001b[0m\u001b[1;33m\u001b[0m\u001b[0m\n",
      "\u001b[1;32mf:\\Proyectos\\DeepLearning\\DL-workshop\\.venv_tf1\\lib\\site-packages\\tensorflow\\python\\client\\session.py\u001b[0m in \u001b[0;36m_do_call\u001b[1;34m(self, fn, *args)\u001b[0m\n\u001b[0;32m   1332\u001b[0m   \u001b[1;32mdef\u001b[0m \u001b[0m_do_call\u001b[0m\u001b[1;33m(\u001b[0m\u001b[0mself\u001b[0m\u001b[1;33m,\u001b[0m \u001b[0mfn\u001b[0m\u001b[1;33m,\u001b[0m \u001b[1;33m*\u001b[0m\u001b[0margs\u001b[0m\u001b[1;33m)\u001b[0m\u001b[1;33m:\u001b[0m\u001b[1;33m\u001b[0m\u001b[1;33m\u001b[0m\u001b[0m\n\u001b[0;32m   1333\u001b[0m     \u001b[1;32mtry\u001b[0m\u001b[1;33m:\u001b[0m\u001b[1;33m\u001b[0m\u001b[1;33m\u001b[0m\u001b[0m\n\u001b[1;32m-> 1334\u001b[1;33m       \u001b[1;32mreturn\u001b[0m \u001b[0mfn\u001b[0m\u001b[1;33m(\u001b[0m\u001b[1;33m*\u001b[0m\u001b[0margs\u001b[0m\u001b[1;33m)\u001b[0m\u001b[1;33m\u001b[0m\u001b[1;33m\u001b[0m\u001b[0m\n\u001b[0m\u001b[0;32m   1335\u001b[0m     \u001b[1;32mexcept\u001b[0m \u001b[0merrors\u001b[0m\u001b[1;33m.\u001b[0m\u001b[0mOpError\u001b[0m \u001b[1;32mas\u001b[0m \u001b[0me\u001b[0m\u001b[1;33m:\u001b[0m\u001b[1;33m\u001b[0m\u001b[1;33m\u001b[0m\u001b[0m\n\u001b[0;32m   1336\u001b[0m       \u001b[0mmessage\u001b[0m \u001b[1;33m=\u001b[0m \u001b[0mcompat\u001b[0m\u001b[1;33m.\u001b[0m\u001b[0mas_text\u001b[0m\u001b[1;33m(\u001b[0m\u001b[0me\u001b[0m\u001b[1;33m.\u001b[0m\u001b[0mmessage\u001b[0m\u001b[1;33m)\u001b[0m\u001b[1;33m\u001b[0m\u001b[1;33m\u001b[0m\u001b[0m\n",
      "\u001b[1;32mf:\\Proyectos\\DeepLearning\\DL-workshop\\.venv_tf1\\lib\\site-packages\\tensorflow\\python\\client\\session.py\u001b[0m in \u001b[0;36m_run_fn\u001b[1;34m(feed_dict, fetch_list, target_list, options, run_metadata)\u001b[0m\n\u001b[0;32m   1317\u001b[0m       \u001b[0mself\u001b[0m\u001b[1;33m.\u001b[0m\u001b[0m_extend_graph\u001b[0m\u001b[1;33m(\u001b[0m\u001b[1;33m)\u001b[0m\u001b[1;33m\u001b[0m\u001b[1;33m\u001b[0m\u001b[0m\n\u001b[0;32m   1318\u001b[0m       return self._call_tf_sessionrun(\n\u001b[1;32m-> 1319\u001b[1;33m           options, feed_dict, fetch_list, target_list, run_metadata)\n\u001b[0m\u001b[0;32m   1320\u001b[0m \u001b[1;33m\u001b[0m\u001b[0m\n\u001b[0;32m   1321\u001b[0m     \u001b[1;32mdef\u001b[0m \u001b[0m_prun_fn\u001b[0m\u001b[1;33m(\u001b[0m\u001b[0mhandle\u001b[0m\u001b[1;33m,\u001b[0m \u001b[0mfeed_dict\u001b[0m\u001b[1;33m,\u001b[0m \u001b[0mfetch_list\u001b[0m\u001b[1;33m)\u001b[0m\u001b[1;33m:\u001b[0m\u001b[1;33m\u001b[0m\u001b[1;33m\u001b[0m\u001b[0m\n",
      "\u001b[1;32mf:\\Proyectos\\DeepLearning\\DL-workshop\\.venv_tf1\\lib\\site-packages\\tensorflow\\python\\client\\session.py\u001b[0m in \u001b[0;36m_call_tf_sessionrun\u001b[1;34m(self, options, feed_dict, fetch_list, target_list, run_metadata)\u001b[0m\n\u001b[0;32m   1405\u001b[0m     return tf_session.TF_SessionRun_wrapper(\n\u001b[0;32m   1406\u001b[0m         \u001b[0mself\u001b[0m\u001b[1;33m.\u001b[0m\u001b[0m_session\u001b[0m\u001b[1;33m,\u001b[0m \u001b[0moptions\u001b[0m\u001b[1;33m,\u001b[0m \u001b[0mfeed_dict\u001b[0m\u001b[1;33m,\u001b[0m \u001b[0mfetch_list\u001b[0m\u001b[1;33m,\u001b[0m \u001b[0mtarget_list\u001b[0m\u001b[1;33m,\u001b[0m\u001b[1;33m\u001b[0m\u001b[1;33m\u001b[0m\u001b[0m\n\u001b[1;32m-> 1407\u001b[1;33m         run_metadata)\n\u001b[0m\u001b[0;32m   1408\u001b[0m \u001b[1;33m\u001b[0m\u001b[0m\n\u001b[0;32m   1409\u001b[0m   \u001b[1;32mdef\u001b[0m \u001b[0m_call_tf_sessionprun\u001b[0m\u001b[1;33m(\u001b[0m\u001b[0mself\u001b[0m\u001b[1;33m,\u001b[0m \u001b[0mhandle\u001b[0m\u001b[1;33m,\u001b[0m \u001b[0mfeed_dict\u001b[0m\u001b[1;33m,\u001b[0m \u001b[0mfetch_list\u001b[0m\u001b[1;33m)\u001b[0m\u001b[1;33m:\u001b[0m\u001b[1;33m\u001b[0m\u001b[1;33m\u001b[0m\u001b[0m\n",
      "\u001b[1;31mKeyboardInterrupt\u001b[0m: "
     ]
    }
   ],
   "source": [
    "EPOCHS = 1000\n",
    "\n",
    "N, M, V = data.shape\n",
    "\n",
    "sess = tf.Session()\n",
    "sess.run(tf.global_variables_initializer())\n",
    "\n",
    "zeros = np.zeros(shape=(BATCH_SIZE))\n",
    "times_minus_one = (TIMES - 1) * np.ones(shape=(BATCH_SIZE))\n",
    "\n",
    "train_writer = tf.summary.FileWriter('./logs/train', sess.graph)\n",
    "\n",
    "counter = 0\n",
    "for e in tqdm(range(EPOCHS)):\n",
    "    \n",
    "    idxs = np.random.choice(N, BATCH_SIZE, replace=False)\n",
    "    batch = data[idxs]\n",
    "    batch_lens = lens[idxs].astype(np.int32)\n",
    "    \n",
    "    ts = (M-1) // TIMES # + 1\n",
    "    \n",
    "    # Initial state\n",
    "    c_1 = np.zeros((BATCH_SIZE, N_HIDDEN))\n",
    "    h_1 = np.zeros((BATCH_SIZE, N_HIDDEN))\n",
    "\n",
    "    c_2 = np.zeros((BATCH_SIZE, N_HIDDEN))\n",
    "    h_2 = np.zeros((BATCH_SIZE, N_HIDDEN))\n",
    "    \n",
    "    if e % 10 == 0:\n",
    "        print(\"\".join(test(max_=200)))\n",
    "    \n",
    "    for t in range(ts):\n",
    "        batch_x = batch[:, t*TIMES:TIMES*(t+1), :]\n",
    "        batch_y = batch[:, t*TIMES+1:TIMES*(t+1)+1, :]\n",
    "        \n",
    "        batch_lens_aux = batch_lens -  (TIMES * t)\n",
    "        \n",
    "        batch_lens_aux = np.maximum(zeros, batch_lens_aux)\n",
    "        batch_lens_aux = np.minimum(times_minus_one, batch_lens_aux)\n",
    "        \n",
    "        batch_lens_aux = batch_lens_aux.astype(np.uint8)\n",
    "        \n",
    "        non_zero_idxs = batch_lens_aux > 0\n",
    "        batch_lens_aux = batch_lens_aux[non_zero_idxs]\n",
    "\n",
    "        batch_x = batch_x[non_zero_idxs, :, :]\n",
    "        batch_y = batch_y[non_zero_idxs, :, :]\n",
    "        c_l_1 = c_1[non_zero_idxs]\n",
    "        h_l_1 = h_1[non_zero_idxs]\n",
    "        \n",
    "        c_l_2 = c_2[non_zero_idxs]\n",
    "        h_l_2 = h_2[non_zero_idxs]\n",
    "        \n",
    "        if np.all(batch_lens_aux == 0):\n",
    "            break\n",
    "    \n",
    "           \n",
    "        m, states_, _ = sess.run([merge, states, upd], feed_dict={x: batch_x, y: batch_y, init_state_c_1: c_l_1, init_state_h_1: h_l_1, init_state_c_2: c_l_2, init_state_h_2: h_l_2, seq_len: batch_lens_aux})\n",
    "        train_writer.add_summary(m, counter)\n",
    "        \n",
    "        counter += 1\n",
    "        \n",
    "        c_1[non_zero_idxs] = states_[0].c\n",
    "        h_1[non_zero_idxs] = states_[0].h\n",
    "\n",
    "        c_2[non_zero_idxs] = states_[1].c\n",
    "        h_2[non_zero_idxs] = states_[1].h\n",
    "        "
   ]
  },
  {
   "cell_type": "markdown",
   "metadata": {},
   "source": [
    "## Generando texto!"
   ]
  },
  {
   "cell_type": "markdown",
   "metadata": {},
   "source": [
    "Una vez entrenada la red, generemos párrafos!"
   ]
  },
  {
   "cell_type": "code",
   "execution_count": null,
   "metadata": {},
   "outputs": [
    {
     "name": "stdout",
     "output_type": "stream",
     "text": [
      "Muchas gracias, muy buenas tardes a todos y a todas; lacivan en cuento a la complicion prarida de Foy viraco e parina señor presidente de la Asamblea; señor Secretario General; señor Presidente; señores miembros de Naciones Unidas: quiero agradere La mismarino a las paotis de los Delechos jelas de de entobiano es preminosente de la República Bolivariana de Venezación el Gunto har elta dos atgonuino esecrenes, de oresiincesdor mun mosin co a las provincia de Formosa; señores efes de dalegaciones; señores gobernadores; disinteo de poísesionten en ciondimento, con Presidenta de la Nación; señoras y señores legisladores y les das del puer, de la Nación; señoras y señores engesiradores y señores de istados; señores gobernadores y señoras legisladores; señores dirigentes; simpatizantes, adgestinos invetras y argentinas: hace -ós y todas y a todas; señor Presidente de la Asamblea; señores miembros de Naciones Unidas: quiero agraderer a las señores dinigentes de la provincia de Buenos Aires; se\n",
      "\n",
      "\n",
      "\n",
      "\n",
      "Muy buenas tardes a todos y a todas.\n",
      "\n",
      "\n"
     ]
    }
   ],
   "source": [
    "N = 3\n",
    "for _ in range(N):\n",
    "    print(\"\".join(test(max_=1000, T=None)))\n",
    "    print()"
   ]
  }
 ],
 "metadata": {
  "kernelspec": {
   "display_name": ".venv_tf1",
   "language": "python",
   "name": "python3"
  },
  "language_info": {
   "codemirror_mode": {
    "name": "ipython",
    "version": 3
   },
   "file_extension": ".py",
   "mimetype": "text/x-python",
   "name": "python",
   "nbconvert_exporter": "python",
   "pygments_lexer": "ipython3",
   "version": "3.7.9"
  }
 },
 "nbformat": 4,
 "nbformat_minor": 2
}
